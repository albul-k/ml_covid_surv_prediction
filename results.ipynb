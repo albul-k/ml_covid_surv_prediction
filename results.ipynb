{
 "cells": [
  {
   "cell_type": "markdown",
   "metadata": {},
   "source": [
    "## vers 1\n",
    "\n",
    "* Accuracy: 0.92\n",
    "* F1 Score: 0.94\n",
    "\n",
    "\n",
    "\t\tfeature_name\timportance\n",
    "\t0\tFeature_3\t30.859968\n",
    "\t5\tFeature_34\t14.855034\n",
    "\t3\tFeature_29\t10.425223\n",
    "\t12\tFeature_70\t5.943414\n",
    "\t14\tFeature_99\t5.756984\n",
    "\t8\tFeature_47\t4.865823\n",
    "\t11\tFeature_56\t4.502961\n",
    "\t6\tFeature_41\t4.327882\n",
    "\t2\tFeature_9\t4.124769\n",
    "\t9\tFeature_51\t3.188297\n",
    "\t13\tFeature_71\t3.175123\n",
    "\t4\tFeature_33\t2.568706\n",
    "\t10\tFeature_52\t2.165308\n",
    "\t1\tFeature_6\t1.675374\n",
    "\t7\tFeature_46\t1.565134"
   ]
  },
  {
   "cell_type": "markdown",
   "metadata": {},
   "source": [
    "## vers 2\n",
    "\n",
    "* Accuracy: 0.86\n",
    "* F1 Score: 0.9\n",
    "\n",
    "\n",
    "            feature_name\timportance\n",
    "    8\tFeature_56\t13.352458\n",
    "    2\tFeature_41\t12.853967\n",
    "    1\tFeature_28\t9.473234\n",
    "    12\tFeature_70\t9.196992\n",
    "    14\tFeature_99\t9.025257\n",
    "    0\tFeature_6\t8.224454\n",
    "    6\tFeature_49\t7.209991\n",
    "    5\tFeature_47\t6.785851\n",
    "    13\tFeature_71\t4.852039\n",
    "    4\tFeature_46\t4.081496\n",
    "    9\tFeature_57\t3.931718\n",
    "    3\tFeature_42\t3.153958\n",
    "    11\tFeature_67\t3.061858\n",
    "    10\tFeature_65\t2.865234\n",
    "    7\tFeature_53\t1.931492"
   ]
  }
 ],
 "metadata": {
  "kernelspec": {
   "display_name": "Python 3",
   "language": "python",
   "name": "python3"
  },
  "language_info": {
   "codemirror_mode": {
    "name": "ipython",
    "version": 3
   },
   "file_extension": ".py",
   "mimetype": "text/x-python",
   "name": "python",
   "nbconvert_exporter": "python",
   "pygments_lexer": "ipython3",
   "version": "3.7.7"
  }
 },
 "nbformat": 4,
 "nbformat_minor": 2
}