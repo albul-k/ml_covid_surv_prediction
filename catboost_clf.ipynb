{
 "cells": [
  {
   "cell_type": "code",
   "execution_count": 1,
   "metadata": {},
   "outputs": [],
   "source": [
    "import pandas as pd\n",
    "import numpy as np\n",
    "import matplotlib.pyplot as plt\n",
    "\n",
    "from catboost import CatBoostClassifier\n",
    "\n",
    "from sklearn.model_selection import train_test_split\n",
    "from sklearn.metrics import classification_report, confusion_matrix, accuracy_score\n",
    "\n",
    "import warnings\n",
    "warnings.filterwarnings('ignore')"
   ]
  },
  {
   "cell_type": "code",
   "execution_count": 2,
   "metadata": {},
   "outputs": [
    {
     "output_type": "execute_result",
     "data": {
      "text/plain": [
       "   Id  Result  Feature_1  Feature_2  Feature_3  Feature_4  Feature_5  \\\n",
       "0   1       2          2         56         12          1        7.0   \n",
       "1   2       2          2         69         19          1        6.0   \n",
       "2   3       2          1         66          8          1        4.0   \n",
       "3   4       2          2         62         16          1        NaN   \n",
       "4   5       2          2         67         30          1        NaN   \n",
       "\n",
       "   Feature_6  Feature_7  Feature_8  ...  Feature_109  Feature_110  \\\n",
       "0        4.0          0        1.0  ...          1.0          0.0   \n",
       "1        4.0          0        1.0  ...          1.0          0.0   \n",
       "2        4.0          0        1.0  ...          1.0          0.0   \n",
       "3        3.0          0        1.0  ...          1.0          0.0   \n",
       "4        4.0          0        1.0  ...          1.0          0.0   \n",
       "\n",
       "   Feature_111  Feature_112  Feature_113  Feature_114  Feature_115  \\\n",
       "0            1            0            1            1            1   \n",
       "1            1            0            1            1            1   \n",
       "2            1            0            1            1            1   \n",
       "3            1            0            1            1            0   \n",
       "4            1            0            1            1            1   \n",
       "\n",
       "   Feature_116  Feature_117  Feature_118  \n",
       "0            1            1            0  \n",
       "1            0            1            1  \n",
       "2            0            1            0  \n",
       "3            0            1            1  \n",
       "4            0            1            0  \n",
       "\n",
       "[5 rows x 116 columns]"
      ],
      "text/html": "<div>\n<style scoped>\n    .dataframe tbody tr th:only-of-type {\n        vertical-align: middle;\n    }\n\n    .dataframe tbody tr th {\n        vertical-align: top;\n    }\n\n    .dataframe thead th {\n        text-align: right;\n    }\n</style>\n<table border=\"1\" class=\"dataframe\">\n  <thead>\n    <tr style=\"text-align: right;\">\n      <th></th>\n      <th>Id</th>\n      <th>Result</th>\n      <th>Feature_1</th>\n      <th>Feature_2</th>\n      <th>Feature_3</th>\n      <th>Feature_4</th>\n      <th>Feature_5</th>\n      <th>Feature_6</th>\n      <th>Feature_7</th>\n      <th>Feature_8</th>\n      <th>...</th>\n      <th>Feature_109</th>\n      <th>Feature_110</th>\n      <th>Feature_111</th>\n      <th>Feature_112</th>\n      <th>Feature_113</th>\n      <th>Feature_114</th>\n      <th>Feature_115</th>\n      <th>Feature_116</th>\n      <th>Feature_117</th>\n      <th>Feature_118</th>\n    </tr>\n  </thead>\n  <tbody>\n    <tr>\n      <th>0</th>\n      <td>1</td>\n      <td>2</td>\n      <td>2</td>\n      <td>56</td>\n      <td>12</td>\n      <td>1</td>\n      <td>7.0</td>\n      <td>4.0</td>\n      <td>0</td>\n      <td>1.0</td>\n      <td>...</td>\n      <td>1.0</td>\n      <td>0.0</td>\n      <td>1</td>\n      <td>0</td>\n      <td>1</td>\n      <td>1</td>\n      <td>1</td>\n      <td>1</td>\n      <td>1</td>\n      <td>0</td>\n    </tr>\n    <tr>\n      <th>1</th>\n      <td>2</td>\n      <td>2</td>\n      <td>2</td>\n      <td>69</td>\n      <td>19</td>\n      <td>1</td>\n      <td>6.0</td>\n      <td>4.0</td>\n      <td>0</td>\n      <td>1.0</td>\n      <td>...</td>\n      <td>1.0</td>\n      <td>0.0</td>\n      <td>1</td>\n      <td>0</td>\n      <td>1</td>\n      <td>1</td>\n      <td>1</td>\n      <td>0</td>\n      <td>1</td>\n      <td>1</td>\n    </tr>\n    <tr>\n      <th>2</th>\n      <td>3</td>\n      <td>2</td>\n      <td>1</td>\n      <td>66</td>\n      <td>8</td>\n      <td>1</td>\n      <td>4.0</td>\n      <td>4.0</td>\n      <td>0</td>\n      <td>1.0</td>\n      <td>...</td>\n      <td>1.0</td>\n      <td>0.0</td>\n      <td>1</td>\n      <td>0</td>\n      <td>1</td>\n      <td>1</td>\n      <td>1</td>\n      <td>0</td>\n      <td>1</td>\n      <td>0</td>\n    </tr>\n    <tr>\n      <th>3</th>\n      <td>4</td>\n      <td>2</td>\n      <td>2</td>\n      <td>62</td>\n      <td>16</td>\n      <td>1</td>\n      <td>NaN</td>\n      <td>3.0</td>\n      <td>0</td>\n      <td>1.0</td>\n      <td>...</td>\n      <td>1.0</td>\n      <td>0.0</td>\n      <td>1</td>\n      <td>0</td>\n      <td>1</td>\n      <td>1</td>\n      <td>0</td>\n      <td>0</td>\n      <td>1</td>\n      <td>1</td>\n    </tr>\n    <tr>\n      <th>4</th>\n      <td>5</td>\n      <td>2</td>\n      <td>2</td>\n      <td>67</td>\n      <td>30</td>\n      <td>1</td>\n      <td>NaN</td>\n      <td>4.0</td>\n      <td>0</td>\n      <td>1.0</td>\n      <td>...</td>\n      <td>1.0</td>\n      <td>0.0</td>\n      <td>1</td>\n      <td>0</td>\n      <td>1</td>\n      <td>1</td>\n      <td>1</td>\n      <td>0</td>\n      <td>1</td>\n      <td>0</td>\n    </tr>\n  </tbody>\n</table>\n<p>5 rows × 116 columns</p>\n</div>"
     },
     "metadata": {},
     "execution_count": 2
    }
   ],
   "source": [
    "df_init = pd.read_csv('data-last.csv', sep=';')\n",
    "df_init.head()"
   ]
  },
  {
   "cell_type": "code",
   "execution_count": 3,
   "metadata": {},
   "outputs": [],
   "source": [
    "df = df_init.copy()\n",
    "\n",
    "target_feature = 'Result'\n",
    "golden_features = ['Feature_3', 'Feature_4', 'Feature_30', 'Feature_32', 'Feature_35', 'Feature_101']\n",
    "trash_features = [] #feature_importances[feature_importances['importance'] < 0.007870]['feature_name'].tolist()\n",
    "all_features = df.columns.drop([target_feature] + golden_features + trash_features + ['Id']).tolist()\n",
    "\n",
    "df = df[[target_feature] + all_features]\n",
    "\n",
    "cat_features = df.select_dtypes(include='int64').columns.drop([target_feature]).tolist()\n",
    "\n",
    "for col in df.select_dtypes(include='float64').columns:\n",
    "    df.fillna(df[col].mean(), inplace=True)\n",
    "\n",
    "for col in df.select_dtypes(include='int64').columns:\n",
    "    df.fillna(-99, inplace=True)\n",
    "\n",
    "# Result=0 - alive, Result=1 died\n",
    "df.loc[df[target_feature] == 1, target_feature] = 1\n",
    "df.loc[df[target_feature] == 2, target_feature] = 0"
   ]
  },
  {
   "cell_type": "code",
   "execution_count": 4,
   "metadata": {},
   "outputs": [
    {
     "output_type": "stream",
     "name": "stdout",
     "text": [
      "Stopped by overfitting detector  (50 iterations wait)\n",
      "0:\tloss: 0.8280000\tbest: 0.8280000 (0)\ttotal: 6.84s\tremaining: 1m 1s\n",
      "Stopped by overfitting detector  (50 iterations wait)\n",
      "1:\tloss: 0.8516923\tbest: 0.8516923 (1)\ttotal: 19.8s\tremaining: 1m 19s\n",
      "Stopped by overfitting detector  (50 iterations wait)\n",
      "2:\tloss: 0.8203077\tbest: 0.8516923 (1)\ttotal: 25s\tremaining: 58.4s\n",
      "Stopped by overfitting detector  (50 iterations wait)\n",
      "3:\tloss: 0.8283077\tbest: 0.8516923 (1)\ttotal: 32.9s\tremaining: 49.4s\n",
      "Stopped by overfitting detector  (50 iterations wait)\n",
      "4:\tloss: 0.8280000\tbest: 0.8516923 (1)\ttotal: 50.1s\tremaining: 50.1s\n",
      "Stopped by overfitting detector  (50 iterations wait)\n",
      "5:\tloss: 0.8209231\tbest: 0.8516923 (1)\ttotal: 1m 10s\tremaining: 46.9s\n",
      "Stopped by overfitting detector  (50 iterations wait)\n",
      "6:\tloss: 0.8280000\tbest: 0.8516923 (1)\ttotal: 1m 17s\tremaining: 33.2s\n",
      "Stopped by overfitting detector  (50 iterations wait)\n",
      "7:\tloss: 0.8440000\tbest: 0.8516923 (1)\ttotal: 1m 23s\tremaining: 20.9s\n",
      "Stopped by overfitting detector  (50 iterations wait)\n",
      "8:\tloss: 0.8283077\tbest: 0.8516923 (1)\ttotal: 1m 38s\tremaining: 10.9s\n",
      "Stopped by overfitting detector  (50 iterations wait)\n",
      "9:\tloss: 0.8209231\tbest: 0.8516923 (1)\ttotal: 2m\tremaining: 0us\n"
     ]
    }
   ],
   "source": [
    "X = df[all_features]\n",
    "y = df[target_feature]\n",
    "\n",
    "X_train, X_test, y_train, y_test = train_test_split(\n",
    "    X,\n",
    "    y,\n",
    "    shuffle=True,\n",
    "    test_size=0.1,\n",
    "    random_state=0,\n",
    "    stratify=y,\n",
    ")\n",
    "\n",
    "params_frozen = {\n",
    "    'eval_metric': 'Accuracy',\n",
    "    'early_stopping_rounds': 50,\n",
    "}\n",
    "\n",
    "params_grid = {\n",
    "    'depth': [4, 6, 8, 10],\n",
    "    'learning_rate': [0.03, 0.1, 0.3, 0.5],\n",
    "    'iterations': [100, 200, 400, 600, 800, 1000, 1200],\n",
    "    'l2_leaf_reg': [2, 2.5, 3, 3.5, 4],\n",
    "    'bagging_temperature': [1, 1.5, 2, 2.5],\n",
    "}\n",
    "\n",
    "clf = CatBoostClassifier(**params_frozen)\n",
    "rs = clf.randomized_search(\n",
    "    params_grid,\n",
    "    X_train,\n",
    "    y_train,\n",
    "    n_iter=10,\n",
    "    shuffle=True,\n",
    "    stratified=True,\n",
    "    partition_random_seed=0,\n",
    "    cv=5,\n",
    "    calc_cv_statistics=True,\n",
    "    search_by_train_test_split=False,\n",
    "    refit=False,\n",
    ")"
   ]
  },
  {
   "cell_type": "code",
   "execution_count": 5,
   "metadata": {
    "tags": []
   },
   "outputs": [
    {
     "output_type": "execute_result",
     "data": {
      "text/plain": [
       "<catboost.core.CatBoostClassifier at 0x201b2880788>"
      ]
     },
     "metadata": {},
     "execution_count": 5
    }
   ],
   "source": [
    "clf_final=CatBoostClassifier(**params_frozen, **rs['params'])\n",
    "clf_final.fit(\n",
    "    X_train,\n",
    "    y_train,\n",
    "    cat_features=cat_features,\n",
    "    silent=True,\n",
    ")"
   ]
  },
  {
   "cell_type": "code",
   "execution_count": 6,
   "metadata": {},
   "outputs": [
    {
     "output_type": "stream",
     "name": "stdout",
     "text": [
      "Accuracy: 0.87\n\nClassification report: \n              precision    recall  f1-score   support\n\n           0       0.90      0.90      0.90        10\n           1       0.80      0.80      0.80         5\n\n    accuracy                           0.87        15\n   macro avg       0.85      0.85      0.85        15\nweighted avg       0.87      0.87      0.87        15\n\n\nConfusion matrix:\n [[9 1]\n [1 4]]\n"
     ]
    }
   ],
   "source": [
    "y_test_pred = clf_final.predict(X_test)\n",
    "\n",
    "print(f'Accuracy: {round(accuracy_score(y_test, y_test_pred), 2)}')\n",
    "print(f'\\nClassification report: \\n{classification_report(y_test, y_test_pred)}')\n",
    "print(f'\\nConfusion matrix:\\n {confusion_matrix(y_test, y_test_pred)}')"
   ]
  },
  {
   "cell_type": "code",
   "execution_count": 7,
   "metadata": {},
   "outputs": [
    {
     "output_type": "execute_result",
     "data": {
      "text/plain": [
       "    feature_name  importance\n",
       "14    Feature_17   10.858437\n",
       "64    Feature_70    7.673702\n",
       "35    Feature_41    6.236787\n",
       "97   Feature_108    6.023141\n",
       "50    Feature_56    5.893131\n",
       "28    Feature_33    5.257477\n",
       "15    Feature_18    4.480803\n",
       "29    Feature_34    4.113586\n",
       "48    Feature_54    3.876616\n",
       "20    Feature_23    3.572644\n",
       "2      Feature_5    3.471156\n",
       "26    Feature_29    3.026969\n",
       "93    Feature_99    2.812798\n",
       "6      Feature_9    2.180566\n",
       "3      Feature_6    2.019124\n",
       "43    Feature_49    1.911417\n",
       "34    Feature_40    1.875780\n",
       "65    Feature_71    1.680132\n",
       "40    Feature_46    1.604201\n",
       "94   Feature_100    1.549802\n",
       "41    Feature_47    1.427837\n",
       "105  Feature_116    1.203035\n",
       "25    Feature_28    1.052841\n",
       "33    Feature_39    0.903371\n",
       "53    Feature_59    0.755784\n",
       "88    Feature_94    0.743102\n",
       "74    Feature_80    0.723951\n",
       "32    Feature_38    0.702365\n",
       "45    Feature_51    0.666104\n",
       "107  Feature_118    0.590621\n",
       "36    Feature_42    0.548060\n",
       "89    Feature_95    0.521975\n",
       "44    Feature_50    0.506328\n",
       "100  Feature_111    0.505514\n",
       "21    Feature_24    0.450801\n",
       "37    Feature_43    0.446204\n",
       "58    Feature_64    0.405813\n",
       "19    Feature_22    0.362779\n",
       "76    Feature_82    0.338267\n",
       "57    Feature_63    0.329738\n",
       "51    Feature_57    0.323889\n",
       "54    Feature_60    0.320768\n",
       "38    Feature_44    0.306791\n",
       "67    Feature_73    0.297781\n",
       "30    Feature_36    0.272193\n",
       "61    Feature_67    0.264490\n",
       "84    Feature_90    0.262171\n",
       "49    Feature_55    0.254551\n",
       "60    Feature_66    0.223477\n",
       "90    Feature_96    0.210703"
      ],
      "text/html": "<div>\n<style scoped>\n    .dataframe tbody tr th:only-of-type {\n        vertical-align: middle;\n    }\n\n    .dataframe tbody tr th {\n        vertical-align: top;\n    }\n\n    .dataframe thead th {\n        text-align: right;\n    }\n</style>\n<table border=\"1\" class=\"dataframe\">\n  <thead>\n    <tr style=\"text-align: right;\">\n      <th></th>\n      <th>feature_name</th>\n      <th>importance</th>\n    </tr>\n  </thead>\n  <tbody>\n    <tr>\n      <th>14</th>\n      <td>Feature_17</td>\n      <td>10.858437</td>\n    </tr>\n    <tr>\n      <th>64</th>\n      <td>Feature_70</td>\n      <td>7.673702</td>\n    </tr>\n    <tr>\n      <th>35</th>\n      <td>Feature_41</td>\n      <td>6.236787</td>\n    </tr>\n    <tr>\n      <th>97</th>\n      <td>Feature_108</td>\n      <td>6.023141</td>\n    </tr>\n    <tr>\n      <th>50</th>\n      <td>Feature_56</td>\n      <td>5.893131</td>\n    </tr>\n    <tr>\n      <th>28</th>\n      <td>Feature_33</td>\n      <td>5.257477</td>\n    </tr>\n    <tr>\n      <th>15</th>\n      <td>Feature_18</td>\n      <td>4.480803</td>\n    </tr>\n    <tr>\n      <th>29</th>\n      <td>Feature_34</td>\n      <td>4.113586</td>\n    </tr>\n    <tr>\n      <th>48</th>\n      <td>Feature_54</td>\n      <td>3.876616</td>\n    </tr>\n    <tr>\n      <th>20</th>\n      <td>Feature_23</td>\n      <td>3.572644</td>\n    </tr>\n    <tr>\n      <th>2</th>\n      <td>Feature_5</td>\n      <td>3.471156</td>\n    </tr>\n    <tr>\n      <th>26</th>\n      <td>Feature_29</td>\n      <td>3.026969</td>\n    </tr>\n    <tr>\n      <th>93</th>\n      <td>Feature_99</td>\n      <td>2.812798</td>\n    </tr>\n    <tr>\n      <th>6</th>\n      <td>Feature_9</td>\n      <td>2.180566</td>\n    </tr>\n    <tr>\n      <th>3</th>\n      <td>Feature_6</td>\n      <td>2.019124</td>\n    </tr>\n    <tr>\n      <th>43</th>\n      <td>Feature_49</td>\n      <td>1.911417</td>\n    </tr>\n    <tr>\n      <th>34</th>\n      <td>Feature_40</td>\n      <td>1.875780</td>\n    </tr>\n    <tr>\n      <th>65</th>\n      <td>Feature_71</td>\n      <td>1.680132</td>\n    </tr>\n    <tr>\n      <th>40</th>\n      <td>Feature_46</td>\n      <td>1.604201</td>\n    </tr>\n    <tr>\n      <th>94</th>\n      <td>Feature_100</td>\n      <td>1.549802</td>\n    </tr>\n    <tr>\n      <th>41</th>\n      <td>Feature_47</td>\n      <td>1.427837</td>\n    </tr>\n    <tr>\n      <th>105</th>\n      <td>Feature_116</td>\n      <td>1.203035</td>\n    </tr>\n    <tr>\n      <th>25</th>\n      <td>Feature_28</td>\n      <td>1.052841</td>\n    </tr>\n    <tr>\n      <th>33</th>\n      <td>Feature_39</td>\n      <td>0.903371</td>\n    </tr>\n    <tr>\n      <th>53</th>\n      <td>Feature_59</td>\n      <td>0.755784</td>\n    </tr>\n    <tr>\n      <th>88</th>\n      <td>Feature_94</td>\n      <td>0.743102</td>\n    </tr>\n    <tr>\n      <th>74</th>\n      <td>Feature_80</td>\n      <td>0.723951</td>\n    </tr>\n    <tr>\n      <th>32</th>\n      <td>Feature_38</td>\n      <td>0.702365</td>\n    </tr>\n    <tr>\n      <th>45</th>\n      <td>Feature_51</td>\n      <td>0.666104</td>\n    </tr>\n    <tr>\n      <th>107</th>\n      <td>Feature_118</td>\n      <td>0.590621</td>\n    </tr>\n    <tr>\n      <th>36</th>\n      <td>Feature_42</td>\n      <td>0.548060</td>\n    </tr>\n    <tr>\n      <th>89</th>\n      <td>Feature_95</td>\n      <td>0.521975</td>\n    </tr>\n    <tr>\n      <th>44</th>\n      <td>Feature_50</td>\n      <td>0.506328</td>\n    </tr>\n    <tr>\n      <th>100</th>\n      <td>Feature_111</td>\n      <td>0.505514</td>\n    </tr>\n    <tr>\n      <th>21</th>\n      <td>Feature_24</td>\n      <td>0.450801</td>\n    </tr>\n    <tr>\n      <th>37</th>\n      <td>Feature_43</td>\n      <td>0.446204</td>\n    </tr>\n    <tr>\n      <th>58</th>\n      <td>Feature_64</td>\n      <td>0.405813</td>\n    </tr>\n    <tr>\n      <th>19</th>\n      <td>Feature_22</td>\n      <td>0.362779</td>\n    </tr>\n    <tr>\n      <th>76</th>\n      <td>Feature_82</td>\n      <td>0.338267</td>\n    </tr>\n    <tr>\n      <th>57</th>\n      <td>Feature_63</td>\n      <td>0.329738</td>\n    </tr>\n    <tr>\n      <th>51</th>\n      <td>Feature_57</td>\n      <td>0.323889</td>\n    </tr>\n    <tr>\n      <th>54</th>\n      <td>Feature_60</td>\n      <td>0.320768</td>\n    </tr>\n    <tr>\n      <th>38</th>\n      <td>Feature_44</td>\n      <td>0.306791</td>\n    </tr>\n    <tr>\n      <th>67</th>\n      <td>Feature_73</td>\n      <td>0.297781</td>\n    </tr>\n    <tr>\n      <th>30</th>\n      <td>Feature_36</td>\n      <td>0.272193</td>\n    </tr>\n    <tr>\n      <th>61</th>\n      <td>Feature_67</td>\n      <td>0.264490</td>\n    </tr>\n    <tr>\n      <th>84</th>\n      <td>Feature_90</td>\n      <td>0.262171</td>\n    </tr>\n    <tr>\n      <th>49</th>\n      <td>Feature_55</td>\n      <td>0.254551</td>\n    </tr>\n    <tr>\n      <th>60</th>\n      <td>Feature_66</td>\n      <td>0.223477</td>\n    </tr>\n    <tr>\n      <th>90</th>\n      <td>Feature_96</td>\n      <td>0.210703</td>\n    </tr>\n  </tbody>\n</table>\n</div>"
     },
     "metadata": {},
     "execution_count": 7
    }
   ],
   "source": [
    "feature_importances = pd.DataFrame(\n",
    "    zip(X_train.columns, clf_final.get_feature_importance()),\n",
    "    columns=['feature_name', 'importance']\n",
    ")\n",
    "\n",
    "feature_importances.sort_values(by='importance', ascending=False, inplace=True)\n",
    "feature_importances.head(50)"
   ]
  }
 ],
 "metadata": {
  "kernelspec": {
   "name": "python37764bit3fbe5ae206bf467f9f636d844c57ff6e",
   "display_name": "Python 3.7.7 64-bit"
  },
  "language_info": {
   "codemirror_mode": {
    "name": "ipython",
    "version": 3
   },
   "file_extension": ".py",
   "mimetype": "text/x-python",
   "name": "python",
   "nbconvert_exporter": "python",
   "pygments_lexer": "ipython3",
   "version": "3.7.7"
  },
  "metadata": {
   "interpreter": {
    "hash": "ca35beca1e73f0e8e48de5d26c91c8a581bc78491f6978c6ebd776970508bb03"
   }
  }
 },
 "nbformat": 4,
 "nbformat_minor": 2
}