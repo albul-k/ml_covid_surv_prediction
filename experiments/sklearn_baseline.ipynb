{
 "cells": [
  {
   "cell_type": "code",
   "execution_count": 1,
   "metadata": {},
   "outputs": [],
   "source": [
    "import pandas as pd\n",
    "import numpy as np\n",
    "import matplotlib.pyplot as plt\n",
    "import seaborn as sns\n",
    "\n",
    "from sklearn.linear_model import LogisticRegression, RidgeClassifier, SGDClassifier\n",
    "from sklearn.svm import LinearSVC\n",
    "from sklearn.ensemble import GradientBoostingClassifier\n",
    "from sklearn.tree import DecisionTreeClassifier, ExtraTreeClassifier\n",
    "\n",
    "from sklearn.model_selection import train_test_split, StratifiedKFold, cross_val_score, GridSearchCV\n",
    "from sklearn.metrics import classification_report, confusion_matrix, plot_roc_curve, plot_precision_recall_curve, accuracy_score\n",
    "\n",
    "from imblearn.over_sampling import RandomOverSampler\n",
    "\n",
    "from sklearn.preprocessing import StandardScaler, Normalizer, MinMaxScaler\n",
    "\n",
    "import warnings\n",
    "warnings.filterwarnings('ignore')"
   ]
  },
  {
   "cell_type": "code",
   "execution_count": 2,
   "metadata": {},
   "outputs": [
    {
     "output_type": "execute_result",
     "data": {
      "text/plain": [
       "   Id  Result  Feature_1  Feature_2  Feature_3  Feature_4  Feature_5  \\\n",
       "0   1       2          2         56         12          1        7.0   \n",
       "1   2       2          2         69         19          1        6.0   \n",
       "2   3       2          1         66          8          1        4.0   \n",
       "3   4       2          2         62         16          1        NaN   \n",
       "4   5       2          2         67         30          1        NaN   \n",
       "\n",
       "   Feature_6  Feature_7  Feature_8  ...  Feature_109  Feature_110  \\\n",
       "0        4.0          0        1.0  ...          1.0          0.0   \n",
       "1        4.0          0        1.0  ...          1.0          0.0   \n",
       "2        4.0          0        1.0  ...          1.0          0.0   \n",
       "3        3.0          0        1.0  ...          1.0          0.0   \n",
       "4        4.0          0        1.0  ...          1.0          0.0   \n",
       "\n",
       "   Feature_111  Feature_112  Feature_113  Feature_114  Feature_115  \\\n",
       "0            1            0            1            1            1   \n",
       "1            1            0            1            1            1   \n",
       "2            1            0            1            1            1   \n",
       "3            1            0            1            1            0   \n",
       "4            1            0            1            1            1   \n",
       "\n",
       "   Feature_116  Feature_117  Feature_118  \n",
       "0            1            1            0  \n",
       "1            0            1            1  \n",
       "2            0            1            0  \n",
       "3            0            1            1  \n",
       "4            0            1            0  \n",
       "\n",
       "[5 rows x 116 columns]"
      ],
      "text/html": "<div>\n<style scoped>\n    .dataframe tbody tr th:only-of-type {\n        vertical-align: middle;\n    }\n\n    .dataframe tbody tr th {\n        vertical-align: top;\n    }\n\n    .dataframe thead th {\n        text-align: right;\n    }\n</style>\n<table border=\"1\" class=\"dataframe\">\n  <thead>\n    <tr style=\"text-align: right;\">\n      <th></th>\n      <th>Id</th>\n      <th>Result</th>\n      <th>Feature_1</th>\n      <th>Feature_2</th>\n      <th>Feature_3</th>\n      <th>Feature_4</th>\n      <th>Feature_5</th>\n      <th>Feature_6</th>\n      <th>Feature_7</th>\n      <th>Feature_8</th>\n      <th>...</th>\n      <th>Feature_109</th>\n      <th>Feature_110</th>\n      <th>Feature_111</th>\n      <th>Feature_112</th>\n      <th>Feature_113</th>\n      <th>Feature_114</th>\n      <th>Feature_115</th>\n      <th>Feature_116</th>\n      <th>Feature_117</th>\n      <th>Feature_118</th>\n    </tr>\n  </thead>\n  <tbody>\n    <tr>\n      <th>0</th>\n      <td>1</td>\n      <td>2</td>\n      <td>2</td>\n      <td>56</td>\n      <td>12</td>\n      <td>1</td>\n      <td>7.0</td>\n      <td>4.0</td>\n      <td>0</td>\n      <td>1.0</td>\n      <td>...</td>\n      <td>1.0</td>\n      <td>0.0</td>\n      <td>1</td>\n      <td>0</td>\n      <td>1</td>\n      <td>1</td>\n      <td>1</td>\n      <td>1</td>\n      <td>1</td>\n      <td>0</td>\n    </tr>\n    <tr>\n      <th>1</th>\n      <td>2</td>\n      <td>2</td>\n      <td>2</td>\n      <td>69</td>\n      <td>19</td>\n      <td>1</td>\n      <td>6.0</td>\n      <td>4.0</td>\n      <td>0</td>\n      <td>1.0</td>\n      <td>...</td>\n      <td>1.0</td>\n      <td>0.0</td>\n      <td>1</td>\n      <td>0</td>\n      <td>1</td>\n      <td>1</td>\n      <td>1</td>\n      <td>0</td>\n      <td>1</td>\n      <td>1</td>\n    </tr>\n    <tr>\n      <th>2</th>\n      <td>3</td>\n      <td>2</td>\n      <td>1</td>\n      <td>66</td>\n      <td>8</td>\n      <td>1</td>\n      <td>4.0</td>\n      <td>4.0</td>\n      <td>0</td>\n      <td>1.0</td>\n      <td>...</td>\n      <td>1.0</td>\n      <td>0.0</td>\n      <td>1</td>\n      <td>0</td>\n      <td>1</td>\n      <td>1</td>\n      <td>1</td>\n      <td>0</td>\n      <td>1</td>\n      <td>0</td>\n    </tr>\n    <tr>\n      <th>3</th>\n      <td>4</td>\n      <td>2</td>\n      <td>2</td>\n      <td>62</td>\n      <td>16</td>\n      <td>1</td>\n      <td>NaN</td>\n      <td>3.0</td>\n      <td>0</td>\n      <td>1.0</td>\n      <td>...</td>\n      <td>1.0</td>\n      <td>0.0</td>\n      <td>1</td>\n      <td>0</td>\n      <td>1</td>\n      <td>1</td>\n      <td>0</td>\n      <td>0</td>\n      <td>1</td>\n      <td>1</td>\n    </tr>\n    <tr>\n      <th>4</th>\n      <td>5</td>\n      <td>2</td>\n      <td>2</td>\n      <td>67</td>\n      <td>30</td>\n      <td>1</td>\n      <td>NaN</td>\n      <td>4.0</td>\n      <td>0</td>\n      <td>1.0</td>\n      <td>...</td>\n      <td>1.0</td>\n      <td>0.0</td>\n      <td>1</td>\n      <td>0</td>\n      <td>1</td>\n      <td>1</td>\n      <td>1</td>\n      <td>0</td>\n      <td>1</td>\n      <td>0</td>\n    </tr>\n  </tbody>\n</table>\n<p>5 rows × 116 columns</p>\n</div>"
     },
     "metadata": {},
     "execution_count": 2
    }
   ],
   "source": [
    "df_init = pd.read_csv('data.csv', sep=';')\n",
    "df_init.head()"
   ]
  },
  {
   "cell_type": "code",
   "execution_count": 3,
   "metadata": {},
   "outputs": [],
   "source": [
    "df = df_init.copy()\n",
    "\n",
    "target_feature = 'Result'\n",
    "num_features = ['Feature_39', 'Feature_40', 'Feature_41', 'Feature_42', 'Feature_43', 'Feature_44', 'Feature_45', 'Feature_46',\n",
    "                'Feature_47', 'Feature_48', 'Feature_49', 'Feature_50', 'Feature_51', 'Feature_53', 'Feature_55', 'Feature_57', \n",
    "                'Feature_58', 'Feature_59', 'Feature_64', 'Feature_70', 'Feature_71', 'Feature_72', 'Feature_73']\n",
    "\n",
    "for col in df.columns:\n",
    "    if col in num_features:\n",
    "        df[col].fillna(df[col].median(), inplace=True)\n",
    "        df[col].astype('float64')\n",
    "    else:\n",
    "        df[col].fillna(-1, inplace=True)\n",
    "        df[col].astype('int64')\n",
    "\n",
    "golden_features = ['Feature_3', 'Feature_4', 'Feature_35']\n",
    "\n",
    "drop_susp_features = True\n",
    "trash_features = []\n",
    "susp_features = ['Feature_29', 'Feature_30', 'Feature_32', 'Feature_101'] if drop_susp_features else []\n",
    "all_features = df.columns.drop([target_feature] + golden_features + susp_features + trash_features + ['Id']).tolist()\n",
    "\n",
    "df = df[[target_feature] + all_features]\n",
    "\n",
    "# Result=0 - alive, Result=1 died\n",
    "df.loc[df[target_feature] == 1, target_feature] = 1\n",
    "df.loc[df[target_feature] == 2, target_feature] = 0"
   ]
  },
  {
   "cell_type": "code",
   "execution_count": 4,
   "metadata": {},
   "outputs": [
    {
     "output_type": "execute_result",
     "data": {
      "text/plain": [
       "   Result  Feature_1  Feature_2  Feature_5  Feature_6  Feature_7  Feature_8  \\\n",
       "0       0          2         56        7.0        4.0          0        1.0   \n",
       "1       0          2         69        6.0        4.0          0        1.0   \n",
       "2       0          1         66        4.0        4.0          0        1.0   \n",
       "3       0          2         62       -1.0        3.0          0        1.0   \n",
       "4       0          2         67       -1.0        4.0          0        1.0   \n",
       "\n",
       "   Feature_9  Feature_10  Feature_11  ...  Feature_109  Feature_110  \\\n",
       "0        1.0         0.0         0.0  ...          1.0          0.0   \n",
       "1        1.0         0.0         1.0  ...          1.0          0.0   \n",
       "2        1.0         1.0         0.0  ...          1.0          0.0   \n",
       "3        1.0         0.0         1.0  ...          1.0          0.0   \n",
       "4        1.0         0.0         0.0  ...          1.0          0.0   \n",
       "\n",
       "   Feature_111  Feature_112  Feature_113  Feature_114  Feature_115  \\\n",
       "0            1            0            1            1            1   \n",
       "1            1            0            1            1            1   \n",
       "2            1            0            1            1            1   \n",
       "3            1            0            1            1            0   \n",
       "4            1            0            1            1            1   \n",
       "\n",
       "   Feature_116  Feature_117  Feature_118  \n",
       "0            1            1            0  \n",
       "1            0            1            1  \n",
       "2            0            1            0  \n",
       "3            0            1            1  \n",
       "4            0            1            0  \n",
       "\n",
       "[5 rows x 108 columns]"
      ],
      "text/html": "<div>\n<style scoped>\n    .dataframe tbody tr th:only-of-type {\n        vertical-align: middle;\n    }\n\n    .dataframe tbody tr th {\n        vertical-align: top;\n    }\n\n    .dataframe thead th {\n        text-align: right;\n    }\n</style>\n<table border=\"1\" class=\"dataframe\">\n  <thead>\n    <tr style=\"text-align: right;\">\n      <th></th>\n      <th>Result</th>\n      <th>Feature_1</th>\n      <th>Feature_2</th>\n      <th>Feature_5</th>\n      <th>Feature_6</th>\n      <th>Feature_7</th>\n      <th>Feature_8</th>\n      <th>Feature_9</th>\n      <th>Feature_10</th>\n      <th>Feature_11</th>\n      <th>...</th>\n      <th>Feature_109</th>\n      <th>Feature_110</th>\n      <th>Feature_111</th>\n      <th>Feature_112</th>\n      <th>Feature_113</th>\n      <th>Feature_114</th>\n      <th>Feature_115</th>\n      <th>Feature_116</th>\n      <th>Feature_117</th>\n      <th>Feature_118</th>\n    </tr>\n  </thead>\n  <tbody>\n    <tr>\n      <th>0</th>\n      <td>0</td>\n      <td>2</td>\n      <td>56</td>\n      <td>7.0</td>\n      <td>4.0</td>\n      <td>0</td>\n      <td>1.0</td>\n      <td>1.0</td>\n      <td>0.0</td>\n      <td>0.0</td>\n      <td>...</td>\n      <td>1.0</td>\n      <td>0.0</td>\n      <td>1</td>\n      <td>0</td>\n      <td>1</td>\n      <td>1</td>\n      <td>1</td>\n      <td>1</td>\n      <td>1</td>\n      <td>0</td>\n    </tr>\n    <tr>\n      <th>1</th>\n      <td>0</td>\n      <td>2</td>\n      <td>69</td>\n      <td>6.0</td>\n      <td>4.0</td>\n      <td>0</td>\n      <td>1.0</td>\n      <td>1.0</td>\n      <td>0.0</td>\n      <td>1.0</td>\n      <td>...</td>\n      <td>1.0</td>\n      <td>0.0</td>\n      <td>1</td>\n      <td>0</td>\n      <td>1</td>\n      <td>1</td>\n      <td>1</td>\n      <td>0</td>\n      <td>1</td>\n      <td>1</td>\n    </tr>\n    <tr>\n      <th>2</th>\n      <td>0</td>\n      <td>1</td>\n      <td>66</td>\n      <td>4.0</td>\n      <td>4.0</td>\n      <td>0</td>\n      <td>1.0</td>\n      <td>1.0</td>\n      <td>1.0</td>\n      <td>0.0</td>\n      <td>...</td>\n      <td>1.0</td>\n      <td>0.0</td>\n      <td>1</td>\n      <td>0</td>\n      <td>1</td>\n      <td>1</td>\n      <td>1</td>\n      <td>0</td>\n      <td>1</td>\n      <td>0</td>\n    </tr>\n    <tr>\n      <th>3</th>\n      <td>0</td>\n      <td>2</td>\n      <td>62</td>\n      <td>-1.0</td>\n      <td>3.0</td>\n      <td>0</td>\n      <td>1.0</td>\n      <td>1.0</td>\n      <td>0.0</td>\n      <td>1.0</td>\n      <td>...</td>\n      <td>1.0</td>\n      <td>0.0</td>\n      <td>1</td>\n      <td>0</td>\n      <td>1</td>\n      <td>1</td>\n      <td>0</td>\n      <td>0</td>\n      <td>1</td>\n      <td>1</td>\n    </tr>\n    <tr>\n      <th>4</th>\n      <td>0</td>\n      <td>2</td>\n      <td>67</td>\n      <td>-1.0</td>\n      <td>4.0</td>\n      <td>0</td>\n      <td>1.0</td>\n      <td>1.0</td>\n      <td>0.0</td>\n      <td>0.0</td>\n      <td>...</td>\n      <td>1.0</td>\n      <td>0.0</td>\n      <td>1</td>\n      <td>0</td>\n      <td>1</td>\n      <td>1</td>\n      <td>1</td>\n      <td>0</td>\n      <td>1</td>\n      <td>0</td>\n    </tr>\n  </tbody>\n</table>\n<p>5 rows × 108 columns</p>\n</div>"
     },
     "metadata": {},
     "execution_count": 4
    }
   ],
   "source": [
    "df.head()"
   ]
  },
  {
   "cell_type": "code",
   "execution_count": 5,
   "metadata": {},
   "outputs": [],
   "source": [
    "def get_best_model(X, y):\n",
    "    models = {\n",
    "        0: {'name': 'LogisticRegression', 'estimator': LogisticRegression()},\n",
    "        1: {'name': 'RidgeClassifier', 'estimator': RidgeClassifier()},\n",
    "        2: {'name': 'SGDClassifier', 'estimator': SGDClassifier()},\n",
    "        3: {'name': 'LinearSVC', 'estimator': LinearSVC()},\n",
    "        4: {'name': 'DecisionTreeClassifier', 'estimator': DecisionTreeClassifier()},\n",
    "        5: {'name': 'ExtraTreeClassifier', 'estimator': ExtraTreeClassifier()},\n",
    "        6: {'name': 'GradientBoostingClassifier', 'estimator': GradientBoostingClassifier()},\n",
    "    }\n",
    "\n",
    "    scalers = {\n",
    "        0: {'name': 'None', 'estimator': None},\n",
    "        1: {'name': 'StandardScaler', 'estimator': StandardScaler()},\n",
    "        2: {'name': 'Normalizer', 'estimator': Normalizer()},\n",
    "        3: {'name': 'MinMaxScaler', 'estimator': MinMaxScaler()}\n",
    "    }\n",
    "\n",
    "    for i in scalers.keys():\n",
    "        X_ = X.copy()\n",
    "        if scalers[i]['estimator'] is not None:\n",
    "            X_ = scalers[i]['estimator'].fit_transform(X_)\n",
    "\n",
    "        print(f\"\\nScaler: {scalers[i]['name']}\")\n",
    "        for k in models.keys():\n",
    "            score = cross_val_score(\n",
    "                models[k]['estimator'],\n",
    "                X_,\n",
    "                y,\n",
    "                scoring=\"accuracy\",\n",
    "                cv=5,\n",
    "                # cv=StratifiedKFold(\n",
    "                #     n_splits=5,\n",
    "                #     shuffle=True,\n",
    "                #     random_state=0\n",
    "                # ),\n",
    "            )\n",
    "            \n",
    "            print(f\"\\t{models[k]['name']}: {round(score.mean(),2)}\")"
   ]
  },
  {
   "cell_type": "code",
   "execution_count": 6,
   "metadata": {},
   "outputs": [
    {
     "output_type": "stream",
     "name": "stdout",
     "text": [
      "\n",
      "Scaler: None\n",
      "\tLogisticRegression: 0.78\n",
      "\tRidgeClassifier: 0.86\n",
      "\tSGDClassifier: 0.6\n",
      "\tLinearSVC: 0.74\n",
      "\tDecisionTreeClassifier: 0.88\n",
      "\tExtraTreeClassifier: 0.84\n",
      "\tGradientBoostingClassifier: 0.94\n",
      "\n",
      "Scaler: StandardScaler\n",
      "\tLogisticRegression: 0.91\n",
      "\tRidgeClassifier: 0.82\n",
      "\tSGDClassifier: 0.92\n",
      "\tLinearSVC: 0.88\n",
      "\tDecisionTreeClassifier: 0.89\n",
      "\tExtraTreeClassifier: 0.86\n",
      "\tGradientBoostingClassifier: 0.93\n",
      "\n",
      "Scaler: Normalizer\n",
      "\tLogisticRegression: 0.63\n",
      "\tRidgeClassifier: 0.62\n",
      "\tSGDClassifier: 0.57\n",
      "\tLinearSVC: 0.64\n",
      "\tDecisionTreeClassifier: 0.91\n",
      "\tExtraTreeClassifier: 0.82\n",
      "\tGradientBoostingClassifier: 0.94\n",
      "\n",
      "Scaler: MinMaxScaler\n",
      "\tLogisticRegression: 0.87\n",
      "\tRidgeClassifier: 0.9\n",
      "\tSGDClassifier: 0.9\n",
      "\tLinearSVC: 0.92\n",
      "\tDecisionTreeClassifier: 0.86\n",
      "\tExtraTreeClassifier: 0.82\n",
      "\tGradientBoostingClassifier: 0.93\n"
     ]
    }
   ],
   "source": [
    "X = df[all_features]\n",
    "y = df[target_feature]\n",
    "\n",
    "X_train, X_test, y_train, y_test = train_test_split(\n",
    "    X,\n",
    "    y,\n",
    "    shuffle=True,\n",
    "    test_size=0.1,\n",
    "    random_state=100,\n",
    "    stratify=y\n",
    ")\n",
    "\n",
    "over_sampler = RandomOverSampler(\n",
    "    random_state=0\n",
    ")\n",
    "X_bal_over, y_bal_over = over_sampler.fit_resample(\n",
    "    X_train,\n",
    "    y_train,\n",
    ")\n",
    "\n",
    "get_best_model(X_bal_over, y_bal_over)"
   ]
  }
 ],
 "metadata": {
  "kernelspec": {
   "name": "python37764bit3fbe5ae206bf467f9f636d844c57ff6e",
   "display_name": "Python 3.7.7 64-bit"
  },
  "language_info": {
   "codemirror_mode": {
    "name": "ipython",
    "version": 3
   },
   "file_extension": ".py",
   "mimetype": "text/x-python",
   "name": "python",
   "nbconvert_exporter": "python",
   "pygments_lexer": "ipython3",
   "version": "3.7.7"
  },
  "metadata": {
   "interpreter": {
    "hash": "ca35beca1e73f0e8e48de5d26c91c8a581bc78491f6978c6ebd776970508bb03"
   }
  }
 },
 "nbformat": 4,
 "nbformat_minor": 2
}