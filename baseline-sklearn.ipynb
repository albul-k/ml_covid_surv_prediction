{
 "cells": [
  {
   "cell_type": "code",
   "execution_count": 17,
   "metadata": {},
   "outputs": [],
   "source": [
    "import pandas as pd\n",
    "import numpy as np\n",
    "import matplotlib.pyplot as plt\n",
    "\n",
    "from sklearn.linear_model import LogisticRegression, RidgeClassifier, SGDClassifier\n",
    "from sklearn.svm import LinearSVC\n",
    "from sklearn.ensemble import GradientBoostingClassifier\n",
    "\n",
    "from sklearn.model_selection import train_test_split, StratifiedKFold, cross_val_score\n",
    "from sklearn.metrics import classification_report, confusion_matrix, plot_roc_curve, plot_precision_recall_curve\n",
    "\n",
    "from sklearn.preprocessing import StandardScaler, Normalizer, MinMaxScaler\n",
    "\n",
    "import warnings\n",
    "warnings.filterwarnings('ignore')"
   ]
  },
  {
   "cell_type": "code",
   "execution_count": 2,
   "metadata": {},
   "outputs": [
    {
     "output_type": "execute_result",
     "data": {
      "text/plain": [
       "   Id  Result  Feature_1  Feature_2  Feature_3  Feature_4  Feature_5  \\\n",
       "0   1       2          2       56.0         12          1        7.0   \n",
       "1   2       2          2       69.0         19          1        6.0   \n",
       "2   3       2          1       66.0          8          1        4.0   \n",
       "3   4       2          2       62.0         16          1        NaN   \n",
       "4   5       2          2       67.0         30          1        NaN   \n",
       "\n",
       "   Feature_6  Feature_7  Feature_8  ...  Feature_91  Feature_92  Feature_93  \\\n",
       "0        4.0          0        1.0  ...         0.0         0.0         1.0   \n",
       "1        4.0          0        1.0  ...         0.0         0.0         0.0   \n",
       "2        4.0          0        1.0  ...         0.0         0.0         0.0   \n",
       "3        3.0          0        1.0  ...         0.0         0.0         0.0   \n",
       "4        4.0          0        1.0  ...         0.0         0.0         0.0   \n",
       "\n",
       "   Feature_94  Feature_95  Feature_96  Feature_97  Feature_98  Feature_99  \\\n",
       "0         0.0         1.0         1.0         0.0         0.0         0.0   \n",
       "1         0.0         0.0         0.0         0.0         0.0         0.0   \n",
       "2         0.0         0.0         0.0         0.0         0.0         0.0   \n",
       "3         0.0         0.0         0.0         0.0         0.0         0.0   \n",
       "4         0.0         0.0         0.0         0.0         0.0         0.0   \n",
       "\n",
       "   Feature_100  \n",
       "0          0.0  \n",
       "1          0.0  \n",
       "2          0.0  \n",
       "3          0.0  \n",
       "4          0.0  \n",
       "\n",
       "[5 rows x 102 columns]"
      ],
      "text/html": "<div>\n<style scoped>\n    .dataframe tbody tr th:only-of-type {\n        vertical-align: middle;\n    }\n\n    .dataframe tbody tr th {\n        vertical-align: top;\n    }\n\n    .dataframe thead th {\n        text-align: right;\n    }\n</style>\n<table border=\"1\" class=\"dataframe\">\n  <thead>\n    <tr style=\"text-align: right;\">\n      <th></th>\n      <th>Id</th>\n      <th>Result</th>\n      <th>Feature_1</th>\n      <th>Feature_2</th>\n      <th>Feature_3</th>\n      <th>Feature_4</th>\n      <th>Feature_5</th>\n      <th>Feature_6</th>\n      <th>Feature_7</th>\n      <th>Feature_8</th>\n      <th>...</th>\n      <th>Feature_91</th>\n      <th>Feature_92</th>\n      <th>Feature_93</th>\n      <th>Feature_94</th>\n      <th>Feature_95</th>\n      <th>Feature_96</th>\n      <th>Feature_97</th>\n      <th>Feature_98</th>\n      <th>Feature_99</th>\n      <th>Feature_100</th>\n    </tr>\n  </thead>\n  <tbody>\n    <tr>\n      <th>0</th>\n      <td>1</td>\n      <td>2</td>\n      <td>2</td>\n      <td>56.0</td>\n      <td>12</td>\n      <td>1</td>\n      <td>7.0</td>\n      <td>4.0</td>\n      <td>0</td>\n      <td>1.0</td>\n      <td>...</td>\n      <td>0.0</td>\n      <td>0.0</td>\n      <td>1.0</td>\n      <td>0.0</td>\n      <td>1.0</td>\n      <td>1.0</td>\n      <td>0.0</td>\n      <td>0.0</td>\n      <td>0.0</td>\n      <td>0.0</td>\n    </tr>\n    <tr>\n      <th>1</th>\n      <td>2</td>\n      <td>2</td>\n      <td>2</td>\n      <td>69.0</td>\n      <td>19</td>\n      <td>1</td>\n      <td>6.0</td>\n      <td>4.0</td>\n      <td>0</td>\n      <td>1.0</td>\n      <td>...</td>\n      <td>0.0</td>\n      <td>0.0</td>\n      <td>0.0</td>\n      <td>0.0</td>\n      <td>0.0</td>\n      <td>0.0</td>\n      <td>0.0</td>\n      <td>0.0</td>\n      <td>0.0</td>\n      <td>0.0</td>\n    </tr>\n    <tr>\n      <th>2</th>\n      <td>3</td>\n      <td>2</td>\n      <td>1</td>\n      <td>66.0</td>\n      <td>8</td>\n      <td>1</td>\n      <td>4.0</td>\n      <td>4.0</td>\n      <td>0</td>\n      <td>1.0</td>\n      <td>...</td>\n      <td>0.0</td>\n      <td>0.0</td>\n      <td>0.0</td>\n      <td>0.0</td>\n      <td>0.0</td>\n      <td>0.0</td>\n      <td>0.0</td>\n      <td>0.0</td>\n      <td>0.0</td>\n      <td>0.0</td>\n    </tr>\n    <tr>\n      <th>3</th>\n      <td>4</td>\n      <td>2</td>\n      <td>2</td>\n      <td>62.0</td>\n      <td>16</td>\n      <td>1</td>\n      <td>NaN</td>\n      <td>3.0</td>\n      <td>0</td>\n      <td>1.0</td>\n      <td>...</td>\n      <td>0.0</td>\n      <td>0.0</td>\n      <td>0.0</td>\n      <td>0.0</td>\n      <td>0.0</td>\n      <td>0.0</td>\n      <td>0.0</td>\n      <td>0.0</td>\n      <td>0.0</td>\n      <td>0.0</td>\n    </tr>\n    <tr>\n      <th>4</th>\n      <td>5</td>\n      <td>2</td>\n      <td>2</td>\n      <td>67.0</td>\n      <td>30</td>\n      <td>1</td>\n      <td>NaN</td>\n      <td>4.0</td>\n      <td>0</td>\n      <td>1.0</td>\n      <td>...</td>\n      <td>0.0</td>\n      <td>0.0</td>\n      <td>0.0</td>\n      <td>0.0</td>\n      <td>0.0</td>\n      <td>0.0</td>\n      <td>0.0</td>\n      <td>0.0</td>\n      <td>0.0</td>\n      <td>0.0</td>\n    </tr>\n  </tbody>\n</table>\n<p>5 rows × 102 columns</p>\n</div>"
     },
     "metadata": {},
     "execution_count": 2
    }
   ],
   "source": [
    "df_init = pd.read_csv('data.csv', sep=';')\n",
    "df_init.head()"
   ]
  },
  {
   "cell_type": "code",
   "execution_count": 3,
   "metadata": {},
   "outputs": [],
   "source": [
    "df = df_init.copy()\n",
    "\n",
    "target_name = 'Result'\n",
    "golden_features = ['Feature_3', 'Feature_4', 'Feature_32', 'Feature_35']\n",
    "feature_names = df.columns.drop([target_name] + golden_features + ['Id']).tolist()\n",
    "\n",
    "df.fillna(0, inplace=True)"
   ]
  },
  {
   "cell_type": "code",
   "execution_count": 4,
   "metadata": {},
   "outputs": [
    {
     "output_type": "execute_result",
     "data": {
      "text/plain": [
       "              Id      Result   Feature_1   Feature_2   Feature_3   Feature_4  \\\n",
       "count  143.00000  143.000000  143.000000  143.000000  143.000000  143.000000   \n",
       "mean    72.00000    1.685315    1.496503   66.594406   12.958042    1.328671   \n",
       "std     41.42463    0.466023    0.501745   15.666973    8.433563    0.471381   \n",
       "min      1.00000    1.000000    1.000000    0.000000    1.000000    1.000000   \n",
       "25%     36.50000    1.000000    1.000000   56.000000    6.000000    1.000000   \n",
       "50%     72.00000    2.000000    1.000000   68.000000   12.000000    1.000000   \n",
       "75%    107.50000    2.000000    2.000000   80.000000   18.000000    2.000000   \n",
       "max    143.00000    2.000000    2.000000   97.000000   40.000000    2.000000   \n",
       "\n",
       "        Feature_5   Feature_6   Feature_7   Feature_8  ...  Feature_91  \\\n",
       "count  143.000000  143.000000  143.000000  143.000000  ...  143.000000   \n",
       "mean     2.664336    2.839161    0.090909    0.755245  ...    0.020979   \n",
       "std      3.126317    0.801850    0.288490    0.431453  ...    0.143818   \n",
       "min      0.000000    0.000000    0.000000    0.000000  ...    0.000000   \n",
       "25%      0.000000    2.000000    0.000000    1.000000  ...    0.000000   \n",
       "50%      1.000000    3.000000    0.000000    1.000000  ...    0.000000   \n",
       "75%      5.000000    3.000000    0.000000    1.000000  ...    0.000000   \n",
       "max     12.000000    4.000000    1.000000    1.000000  ...    1.000000   \n",
       "\n",
       "       Feature_92  Feature_93  Feature_94  Feature_95  Feature_96  Feature_97  \\\n",
       "count  143.000000  143.000000  143.000000  143.000000  143.000000       143.0   \n",
       "mean     0.090909    0.153846    0.160839    0.083916    0.300699         0.0   \n",
       "std      0.288490    0.362069    0.368674    0.278236    1.156945         0.0   \n",
       "min      0.000000    0.000000    0.000000    0.000000    0.000000         0.0   \n",
       "25%      0.000000    0.000000    0.000000    0.000000    0.000000         0.0   \n",
       "50%      0.000000    0.000000    0.000000    0.000000    0.000000         0.0   \n",
       "75%      0.000000    0.000000    0.000000    0.000000    0.000000         0.0   \n",
       "max      1.000000    1.000000    1.000000    1.000000    9.000000         0.0   \n",
       "\n",
       "       Feature_98  Feature_99  Feature_100  \n",
       "count  143.000000  143.000000        143.0  \n",
       "mean     0.041958    0.265734          0.0  \n",
       "std      0.201198    0.887718          0.0  \n",
       "min      0.000000    0.000000          0.0  \n",
       "25%      0.000000    0.000000          0.0  \n",
       "50%      0.000000    0.000000          0.0  \n",
       "75%      0.000000    0.000000          0.0  \n",
       "max      1.000000    9.000000          0.0  \n",
       "\n",
       "[8 rows x 102 columns]"
      ],
      "text/html": "<div>\n<style scoped>\n    .dataframe tbody tr th:only-of-type {\n        vertical-align: middle;\n    }\n\n    .dataframe tbody tr th {\n        vertical-align: top;\n    }\n\n    .dataframe thead th {\n        text-align: right;\n    }\n</style>\n<table border=\"1\" class=\"dataframe\">\n  <thead>\n    <tr style=\"text-align: right;\">\n      <th></th>\n      <th>Id</th>\n      <th>Result</th>\n      <th>Feature_1</th>\n      <th>Feature_2</th>\n      <th>Feature_3</th>\n      <th>Feature_4</th>\n      <th>Feature_5</th>\n      <th>Feature_6</th>\n      <th>Feature_7</th>\n      <th>Feature_8</th>\n      <th>...</th>\n      <th>Feature_91</th>\n      <th>Feature_92</th>\n      <th>Feature_93</th>\n      <th>Feature_94</th>\n      <th>Feature_95</th>\n      <th>Feature_96</th>\n      <th>Feature_97</th>\n      <th>Feature_98</th>\n      <th>Feature_99</th>\n      <th>Feature_100</th>\n    </tr>\n  </thead>\n  <tbody>\n    <tr>\n      <th>count</th>\n      <td>143.00000</td>\n      <td>143.000000</td>\n      <td>143.000000</td>\n      <td>143.000000</td>\n      <td>143.000000</td>\n      <td>143.000000</td>\n      <td>143.000000</td>\n      <td>143.000000</td>\n      <td>143.000000</td>\n      <td>143.000000</td>\n      <td>...</td>\n      <td>143.000000</td>\n      <td>143.000000</td>\n      <td>143.000000</td>\n      <td>143.000000</td>\n      <td>143.000000</td>\n      <td>143.000000</td>\n      <td>143.0</td>\n      <td>143.000000</td>\n      <td>143.000000</td>\n      <td>143.0</td>\n    </tr>\n    <tr>\n      <th>mean</th>\n      <td>72.00000</td>\n      <td>1.685315</td>\n      <td>1.496503</td>\n      <td>66.594406</td>\n      <td>12.958042</td>\n      <td>1.328671</td>\n      <td>2.664336</td>\n      <td>2.839161</td>\n      <td>0.090909</td>\n      <td>0.755245</td>\n      <td>...</td>\n      <td>0.020979</td>\n      <td>0.090909</td>\n      <td>0.153846</td>\n      <td>0.160839</td>\n      <td>0.083916</td>\n      <td>0.300699</td>\n      <td>0.0</td>\n      <td>0.041958</td>\n      <td>0.265734</td>\n      <td>0.0</td>\n    </tr>\n    <tr>\n      <th>std</th>\n      <td>41.42463</td>\n      <td>0.466023</td>\n      <td>0.501745</td>\n      <td>15.666973</td>\n      <td>8.433563</td>\n      <td>0.471381</td>\n      <td>3.126317</td>\n      <td>0.801850</td>\n      <td>0.288490</td>\n      <td>0.431453</td>\n      <td>...</td>\n      <td>0.143818</td>\n      <td>0.288490</td>\n      <td>0.362069</td>\n      <td>0.368674</td>\n      <td>0.278236</td>\n      <td>1.156945</td>\n      <td>0.0</td>\n      <td>0.201198</td>\n      <td>0.887718</td>\n      <td>0.0</td>\n    </tr>\n    <tr>\n      <th>min</th>\n      <td>1.00000</td>\n      <td>1.000000</td>\n      <td>1.000000</td>\n      <td>0.000000</td>\n      <td>1.000000</td>\n      <td>1.000000</td>\n      <td>0.000000</td>\n      <td>0.000000</td>\n      <td>0.000000</td>\n      <td>0.000000</td>\n      <td>...</td>\n      <td>0.000000</td>\n      <td>0.000000</td>\n      <td>0.000000</td>\n      <td>0.000000</td>\n      <td>0.000000</td>\n      <td>0.000000</td>\n      <td>0.0</td>\n      <td>0.000000</td>\n      <td>0.000000</td>\n      <td>0.0</td>\n    </tr>\n    <tr>\n      <th>25%</th>\n      <td>36.50000</td>\n      <td>1.000000</td>\n      <td>1.000000</td>\n      <td>56.000000</td>\n      <td>6.000000</td>\n      <td>1.000000</td>\n      <td>0.000000</td>\n      <td>2.000000</td>\n      <td>0.000000</td>\n      <td>1.000000</td>\n      <td>...</td>\n      <td>0.000000</td>\n      <td>0.000000</td>\n      <td>0.000000</td>\n      <td>0.000000</td>\n      <td>0.000000</td>\n      <td>0.000000</td>\n      <td>0.0</td>\n      <td>0.000000</td>\n      <td>0.000000</td>\n      <td>0.0</td>\n    </tr>\n    <tr>\n      <th>50%</th>\n      <td>72.00000</td>\n      <td>2.000000</td>\n      <td>1.000000</td>\n      <td>68.000000</td>\n      <td>12.000000</td>\n      <td>1.000000</td>\n      <td>1.000000</td>\n      <td>3.000000</td>\n      <td>0.000000</td>\n      <td>1.000000</td>\n      <td>...</td>\n      <td>0.000000</td>\n      <td>0.000000</td>\n      <td>0.000000</td>\n      <td>0.000000</td>\n      <td>0.000000</td>\n      <td>0.000000</td>\n      <td>0.0</td>\n      <td>0.000000</td>\n      <td>0.000000</td>\n      <td>0.0</td>\n    </tr>\n    <tr>\n      <th>75%</th>\n      <td>107.50000</td>\n      <td>2.000000</td>\n      <td>2.000000</td>\n      <td>80.000000</td>\n      <td>18.000000</td>\n      <td>2.000000</td>\n      <td>5.000000</td>\n      <td>3.000000</td>\n      <td>0.000000</td>\n      <td>1.000000</td>\n      <td>...</td>\n      <td>0.000000</td>\n      <td>0.000000</td>\n      <td>0.000000</td>\n      <td>0.000000</td>\n      <td>0.000000</td>\n      <td>0.000000</td>\n      <td>0.0</td>\n      <td>0.000000</td>\n      <td>0.000000</td>\n      <td>0.0</td>\n    </tr>\n    <tr>\n      <th>max</th>\n      <td>143.00000</td>\n      <td>2.000000</td>\n      <td>2.000000</td>\n      <td>97.000000</td>\n      <td>40.000000</td>\n      <td>2.000000</td>\n      <td>12.000000</td>\n      <td>4.000000</td>\n      <td>1.000000</td>\n      <td>1.000000</td>\n      <td>...</td>\n      <td>1.000000</td>\n      <td>1.000000</td>\n      <td>1.000000</td>\n      <td>1.000000</td>\n      <td>1.000000</td>\n      <td>9.000000</td>\n      <td>0.0</td>\n      <td>1.000000</td>\n      <td>9.000000</td>\n      <td>0.0</td>\n    </tr>\n  </tbody>\n</table>\n<p>8 rows × 102 columns</p>\n</div>"
     },
     "metadata": {},
     "execution_count": 4
    }
   ],
   "source": [
    "df.describe()"
   ]
  },
  {
   "cell_type": "code",
   "execution_count": 5,
   "metadata": {},
   "outputs": [
    {
     "output_type": "stream",
     "name": "stdout",
     "text": [
      "<class 'pandas.core.frame.DataFrame'>\nRangeIndex: 143 entries, 0 to 142\nColumns: 102 entries, Id to Feature_100\ndtypes: float64(84), int64(18)\nmemory usage: 114.1 KB\n"
     ]
    }
   ],
   "source": [
    "df.info()"
   ]
  },
  {
   "cell_type": "code",
   "execution_count": 21,
   "metadata": {},
   "outputs": [
    {
     "output_type": "stream",
     "name": "stdout",
     "text": [
      "LogisticRegression: 0.8\n",
      "RidgeClassifier: 0.73\n",
      "SGDClassifier: 0.75\n",
      "LinearSVC: 0.73\n",
      "GradientBoostingClassifier: 0.83\n"
     ]
    }
   ],
   "source": [
    "X = df[feature_names]\n",
    "y = df[target_name]\n",
    "\n",
    "X_train, X_test, y_train, y_test = train_test_split(\n",
    "    X,\n",
    "    y,\n",
    "    shuffle=True,\n",
    "    test_size=0.2,\n",
    "    random_state=100,\n",
    "    stratify=y\n",
    ")\n",
    "\n",
    "scaler = StandardScaler()\n",
    "X = scaler.fit_transform(X)\n",
    "# LogisticRegression: 0.8\n",
    "# RidgeClassifier: 0.73\n",
    "# SGDClassifier: 0.76\n",
    "# LinearSVC: 0.73\n",
    "# GradientBoostingClassifier: 0.83\n",
    "\n",
    "# norm = Normalizer()\n",
    "# X = norm.fit_transform(X)\n",
    "# LogisticRegression: 0.69\n",
    "# RidgeClassifier: 0.71\n",
    "# SGDClassifier: 0.64\n",
    "# LinearSVC: 0.66\n",
    "# GradientBoostingClassifier: 0.8\n",
    "\n",
    "# minmax = MinMaxScaler()\n",
    "# X = minmax.fit_transform(X)\n",
    "# LogisticRegression: 0.8\n",
    "# RidgeClassifier: 0.8\n",
    "# SGDClassifier: 0.8\n",
    "# LinearSVC: 0.78\n",
    "# GradientBoostingClassifier: 0.82\n",
    "\n",
    "clf = LogisticRegression()\n",
    "print(f'LogisticRegression: {round(cross_val_score(clf, X, y, scoring=\"accuracy\", cv=StratifiedKFold(n_splits=5, shuffle=True, random_state=0)).mean(),2)}')\n",
    "\n",
    "clf = RidgeClassifier()\n",
    "print(f'RidgeClassifier: {round(cross_val_score(clf, X, y, scoring=\"accuracy\", cv=StratifiedKFold(n_splits=5, shuffle=True, random_state=0)).mean(),2)}')\n",
    "\n",
    "clf = SGDClassifier()\n",
    "print(f'SGDClassifier: {round(cross_val_score(clf, X, y, scoring=\"accuracy\", cv=StratifiedKFold(n_splits=5, shuffle=True, random_state=0)).mean(),2)}')\n",
    "\n",
    "clf = LinearSVC()\n",
    "print(f'LinearSVC: {round(cross_val_score(clf, X, y, scoring=\"accuracy\", cv=StratifiedKFold(n_splits=5, shuffle=True, random_state=0)).mean(),2)}')\n",
    "\n",
    "clf = GradientBoostingClassifier()\n",
    "print(f'GradientBoostingClassifier: {round(cross_val_score(clf, X, y, scoring=\"accuracy\", cv=StratifiedKFold(n_splits=5, shuffle=True, random_state=0)).mean(),2)}')"
   ]
  },
  {
   "cell_type": "code",
   "execution_count": 7,
   "metadata": {},
   "outputs": [
    {
     "name": "stdout",
     "output_type": "stream",
     "text": [
      "Accuracy on train: 1.0\n",
      "Accuracy on test: 0.93\n",
      "\n",
      "Classification report: \n",
      "              precision    recall  f1-score   support\n",
      "\n",
      "           1       0.83      1.00      0.91         5\n",
      "           2       1.00      0.90      0.95        10\n",
      "\n",
      "    accuracy                           0.93        15\n",
      "   macro avg       0.92      0.95      0.93        15\n",
      "weighted avg       0.94      0.93      0.93        15\n",
      "\n",
      "\n",
      "Confusion matrix:\n",
      " [[5 0]\n",
      " [1 9]]\n"
     ]
    }
   ],
   "source": [
    "print(f'Accuracy on train: {round(cbr_model.score(X_train, y_train), 2)}')\n",
    "print(f'Accuracy on test: {round(cbr_model.score(X_test, y_test), 2)}')\n",
    "\n",
    "y_test_pred = cbr_model.predict(X_test)\n",
    "print(f'\\nClassification report: \\n{classification_report(y_test, y_test_pred)}')\n",
    "print(f'\\nConfusion matrix:\\n {confusion_matrix(y_test, y_test_pred)}')"
   ]
  },
  {
   "cell_type": "code",
   "execution_count": null,
   "metadata": {},
   "outputs": [],
   "source": [
    "feature_importances = pd.DataFrame(\n",
    "    zip(X.columns, cbr_model.get_feature_importance()),\n",
    "    columns=['feature_name', 'importance']\n",
    ")\n",
    "\n",
    "feature_importances.sort_values(by='importance', ascending=False, inplace=True)\n",
    "feature_importances.head(50)"
   ]
  },
  {
   "cell_type": "code",
   "execution_count": 11,
   "metadata": {},
   "outputs": [
    {
     "data": {
      "text/plain": [
       "<sklearn.metrics._plot.roc_curve.RocCurveDisplay at 0x1560253fb08>"
      ]
     },
     "execution_count": 11,
     "metadata": {},
     "output_type": "execute_result"
    },
    {
     "data": {
      "image/png": "[encoded data removed]",
      "text/plain": [
       "<Figure size 432x288 with 1 Axes>"
      ]
     },
     "metadata": {
      "needs_background": "light"
     },
     "output_type": "display_data"
    }
   ],
   "source": [
    "plot_roc_curve(cbr_model, X_test, y_test)  "
   ]
  },
  {
   "cell_type": "code",
   "execution_count": 13,
   "metadata": {},
   "outputs": [
    {
     "data": {
      "text/plain": [
       "<sklearn.metrics._plot.precision_recall_curve.PrecisionRecallDisplay at 0x15604083c48>"
      ]
     },
     "execution_count": 13,
     "metadata": {},
     "output_type": "execute_result"
    },
    {
     "data": {
      "image/png": "[encoded data removed]",
      "text/plain": [
       "<Figure size 432x288 with 1 Axes>"
      ]
     },
     "metadata": {
      "needs_background": "light"
     },
     "output_type": "display_data"
    }
   ],
   "source": [
    "plot_precision_recall_curve(cbr_model, X_test, y_test) "
   ]
  }
 ],
 "metadata": {
  "kernelspec": {
   "display_name": "Python 3.7.7 64-bit",
   "language": "python",
   "name": "python37764bit3fbe5ae206bf467f9f636d844c57ff6e"
  },
  "language_info": {
   "codemirror_mode": {
    "name": "ipython",
    "version": 3
   },
   "file_extension": ".py",
   "mimetype": "text/x-python",
   "name": "python",
   "nbconvert_exporter": "python",
   "pygments_lexer": "ipython3",
   "version": "3.7.7-final"
  }
 },
 "nbformat": 4,
 "nbformat_minor": 2
}