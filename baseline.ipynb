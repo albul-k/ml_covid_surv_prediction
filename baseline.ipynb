{
 "metadata": {
  "language_info": {
   "codemirror_mode": {
    "name": "ipython",
    "version": 3
   },
   "file_extension": ".py",
   "mimetype": "text/x-python",
   "name": "python",
   "nbconvert_exporter": "python",
   "pygments_lexer": "ipython3",
   "version": "3.7.7-final"
  },
  "orig_nbformat": 2,
  "kernelspec": {
   "name": "python38232bit19c972126b724aac879ac112e9ba0e70",
   "display_name": "Python 3.8.2 32-bit",
   "language": "python"
  }
 },
 "nbformat": 4,
 "nbformat_minor": 2,
 "cells": [
  {
   "cell_type": "code",
   "execution_count": 15,
   "metadata": {},
   "outputs": [],
   "source": [
    "import pandas as pd\n",
    "import numpy as np\n",
    "\n",
    "from catboost import CatBoostClassifier\n",
    "\n",
    "from sklearn.model_selection import train_test_split\n",
    "from sklearn.metrics import classification_report, confusion_matrix"
   ]
  },
  {
   "cell_type": "code",
   "execution_count": 2,
   "metadata": {},
   "outputs": [
    {
     "output_type": "execute_result",
     "data": {
      "text/plain": [
       "   Id  Result  Feature_1  Feature_2  Feature_3  Feature_4  Feature_5  \\\n",
       "0   1       2          2       56.0         12          1        7.0   \n",
       "1   2       2          2       69.0         19          1        6.0   \n",
       "2   3       2          1       66.0          8          1        4.0   \n",
       "3   4       2          2       62.0         16          1        NaN   \n",
       "4   5       2          2       67.0         30          1        NaN   \n",
       "\n",
       "   Feature_6  Feature_7  Feature_8  ...  Feature_91  Feature_92  Feature_93  \\\n",
       "0        4.0          0        1.0  ...         0.0         0.0         1.0   \n",
       "1        4.0          0        1.0  ...         0.0         0.0         0.0   \n",
       "2        4.0          0        1.0  ...         0.0         0.0         0.0   \n",
       "3        3.0          0        1.0  ...         0.0         0.0         0.0   \n",
       "4        4.0          0        1.0  ...         0.0         0.0         0.0   \n",
       "\n",
       "   Feature_94  Feature_95  Feature_96  Feature_97  Feature_98  Feature_99  \\\n",
       "0         0.0         1.0         1.0         0.0         0.0         0.0   \n",
       "1         0.0         0.0         0.0         0.0         0.0         0.0   \n",
       "2         0.0         0.0         0.0         0.0         0.0         0.0   \n",
       "3         0.0         0.0         0.0         0.0         0.0         0.0   \n",
       "4         0.0         0.0         0.0         0.0         0.0         0.0   \n",
       "\n",
       "   Feature_100  \n",
       "0          0.0  \n",
       "1          0.0  \n",
       "2          0.0  \n",
       "3          0.0  \n",
       "4          0.0  \n",
       "\n",
       "[5 rows x 102 columns]"
      ],
      "text/html": "<div>\n<style scoped>\n    .dataframe tbody tr th:only-of-type {\n        vertical-align: middle;\n    }\n\n    .dataframe tbody tr th {\n        vertical-align: top;\n    }\n\n    .dataframe thead th {\n        text-align: right;\n    }\n</style>\n<table border=\"1\" class=\"dataframe\">\n  <thead>\n    <tr style=\"text-align: right;\">\n      <th></th>\n      <th>Id</th>\n      <th>Result</th>\n      <th>Feature_1</th>\n      <th>Feature_2</th>\n      <th>Feature_3</th>\n      <th>Feature_4</th>\n      <th>Feature_5</th>\n      <th>Feature_6</th>\n      <th>Feature_7</th>\n      <th>Feature_8</th>\n      <th>...</th>\n      <th>Feature_91</th>\n      <th>Feature_92</th>\n      <th>Feature_93</th>\n      <th>Feature_94</th>\n      <th>Feature_95</th>\n      <th>Feature_96</th>\n      <th>Feature_97</th>\n      <th>Feature_98</th>\n      <th>Feature_99</th>\n      <th>Feature_100</th>\n    </tr>\n  </thead>\n  <tbody>\n    <tr>\n      <th>0</th>\n      <td>1</td>\n      <td>2</td>\n      <td>2</td>\n      <td>56.0</td>\n      <td>12</td>\n      <td>1</td>\n      <td>7.0</td>\n      <td>4.0</td>\n      <td>0</td>\n      <td>1.0</td>\n      <td>...</td>\n      <td>0.0</td>\n      <td>0.0</td>\n      <td>1.0</td>\n      <td>0.0</td>\n      <td>1.0</td>\n      <td>1.0</td>\n      <td>0.0</td>\n      <td>0.0</td>\n      <td>0.0</td>\n      <td>0.0</td>\n    </tr>\n    <tr>\n      <th>1</th>\n      <td>2</td>\n      <td>2</td>\n      <td>2</td>\n      <td>69.0</td>\n      <td>19</td>\n      <td>1</td>\n      <td>6.0</td>\n      <td>4.0</td>\n      <td>0</td>\n      <td>1.0</td>\n      <td>...</td>\n      <td>0.0</td>\n      <td>0.0</td>\n      <td>0.0</td>\n      <td>0.0</td>\n      <td>0.0</td>\n      <td>0.0</td>\n      <td>0.0</td>\n      <td>0.0</td>\n      <td>0.0</td>\n      <td>0.0</td>\n    </tr>\n    <tr>\n      <th>2</th>\n      <td>3</td>\n      <td>2</td>\n      <td>1</td>\n      <td>66.0</td>\n      <td>8</td>\n      <td>1</td>\n      <td>4.0</td>\n      <td>4.0</td>\n      <td>0</td>\n      <td>1.0</td>\n      <td>...</td>\n      <td>0.0</td>\n      <td>0.0</td>\n      <td>0.0</td>\n      <td>0.0</td>\n      <td>0.0</td>\n      <td>0.0</td>\n      <td>0.0</td>\n      <td>0.0</td>\n      <td>0.0</td>\n      <td>0.0</td>\n    </tr>\n    <tr>\n      <th>3</th>\n      <td>4</td>\n      <td>2</td>\n      <td>2</td>\n      <td>62.0</td>\n      <td>16</td>\n      <td>1</td>\n      <td>NaN</td>\n      <td>3.0</td>\n      <td>0</td>\n      <td>1.0</td>\n      <td>...</td>\n      <td>0.0</td>\n      <td>0.0</td>\n      <td>0.0</td>\n      <td>0.0</td>\n      <td>0.0</td>\n      <td>0.0</td>\n      <td>0.0</td>\n      <td>0.0</td>\n      <td>0.0</td>\n      <td>0.0</td>\n    </tr>\n    <tr>\n      <th>4</th>\n      <td>5</td>\n      <td>2</td>\n      <td>2</td>\n      <td>67.0</td>\n      <td>30</td>\n      <td>1</td>\n      <td>NaN</td>\n      <td>4.0</td>\n      <td>0</td>\n      <td>1.0</td>\n      <td>...</td>\n      <td>0.0</td>\n      <td>0.0</td>\n      <td>0.0</td>\n      <td>0.0</td>\n      <td>0.0</td>\n      <td>0.0</td>\n      <td>0.0</td>\n      <td>0.0</td>\n      <td>0.0</td>\n      <td>0.0</td>\n    </tr>\n  </tbody>\n</table>\n<p>5 rows × 102 columns</p>\n</div>"
     },
     "metadata": {},
     "execution_count": 2
    }
   ],
   "source": [
    "df_init = pd.read_csv('data.csv', sep=';')\n",
    "df_init.head()"
   ]
  },
  {
   "cell_type": "code",
   "execution_count": 10,
   "metadata": {},
   "outputs": [],
   "source": [
    "df = df_init.copy()\n",
    "\n",
    "target_name = 'Result'\n",
    "golden_features = ['Feature_3', 'Feature_4', 'Feature_32', 'Feature_35']\n",
    "feature_names = df.columns.drop([target_name] + golden_features + ['Id']).tolist()\n",
    "\n",
    "df.fillna(0, inplace=True)"
   ]
  },
  {
   "cell_type": "code",
   "execution_count": 11,
   "metadata": {},
   "outputs": [
    {
     "output_type": "execute_result",
     "data": {
      "text/plain": [
       "              Id      Result   Feature_1   Feature_2   Feature_3   Feature_4  \\\n",
       "count  143.00000  143.000000  143.000000  143.000000  143.000000  143.000000   \n",
       "mean    72.00000    1.685315    1.496503   66.594406   12.958042    1.328671   \n",
       "std     41.42463    0.466023    0.501745   15.666973    8.433563    0.471381   \n",
       "min      1.00000    1.000000    1.000000    0.000000    1.000000    1.000000   \n",
       "25%     36.50000    1.000000    1.000000   56.000000    6.000000    1.000000   \n",
       "50%     72.00000    2.000000    1.000000   68.000000   12.000000    1.000000   \n",
       "75%    107.50000    2.000000    2.000000   80.000000   18.000000    2.000000   \n",
       "max    143.00000    2.000000    2.000000   97.000000   40.000000    2.000000   \n",
       "\n",
       "        Feature_5   Feature_6   Feature_7   Feature_8  ...  Feature_91  \\\n",
       "count  143.000000  143.000000  143.000000  143.000000  ...  143.000000   \n",
       "mean     2.664336    2.839161    0.090909    0.755245  ...    0.020979   \n",
       "std      3.126317    0.801850    0.288490    0.431453  ...    0.143818   \n",
       "min      0.000000    0.000000    0.000000    0.000000  ...    0.000000   \n",
       "25%      0.000000    2.000000    0.000000    1.000000  ...    0.000000   \n",
       "50%      1.000000    3.000000    0.000000    1.000000  ...    0.000000   \n",
       "75%      5.000000    3.000000    0.000000    1.000000  ...    0.000000   \n",
       "max     12.000000    4.000000    1.000000    1.000000  ...    1.000000   \n",
       "\n",
       "       Feature_92  Feature_93  Feature_94  Feature_95  Feature_96  Feature_97  \\\n",
       "count  143.000000  143.000000  143.000000  143.000000  143.000000       143.0   \n",
       "mean     0.090909    0.153846    0.160839    0.083916    0.300699         0.0   \n",
       "std      0.288490    0.362069    0.368674    0.278236    1.156945         0.0   \n",
       "min      0.000000    0.000000    0.000000    0.000000    0.000000         0.0   \n",
       "25%      0.000000    0.000000    0.000000    0.000000    0.000000         0.0   \n",
       "50%      0.000000    0.000000    0.000000    0.000000    0.000000         0.0   \n",
       "75%      0.000000    0.000000    0.000000    0.000000    0.000000         0.0   \n",
       "max      1.000000    1.000000    1.000000    1.000000    9.000000         0.0   \n",
       "\n",
       "       Feature_98  Feature_99  Feature_100  \n",
       "count  143.000000  143.000000        143.0  \n",
       "mean     0.041958    0.265734          0.0  \n",
       "std      0.201198    0.887718          0.0  \n",
       "min      0.000000    0.000000          0.0  \n",
       "25%      0.000000    0.000000          0.0  \n",
       "50%      0.000000    0.000000          0.0  \n",
       "75%      0.000000    0.000000          0.0  \n",
       "max      1.000000    9.000000          0.0  \n",
       "\n",
       "[8 rows x 102 columns]"
      ],
      "text/html": "<div>\n<style scoped>\n    .dataframe tbody tr th:only-of-type {\n        vertical-align: middle;\n    }\n\n    .dataframe tbody tr th {\n        vertical-align: top;\n    }\n\n    .dataframe thead th {\n        text-align: right;\n    }\n</style>\n<table border=\"1\" class=\"dataframe\">\n  <thead>\n    <tr style=\"text-align: right;\">\n      <th></th>\n      <th>Id</th>\n      <th>Result</th>\n      <th>Feature_1</th>\n      <th>Feature_2</th>\n      <th>Feature_3</th>\n      <th>Feature_4</th>\n      <th>Feature_5</th>\n      <th>Feature_6</th>\n      <th>Feature_7</th>\n      <th>Feature_8</th>\n      <th>...</th>\n      <th>Feature_91</th>\n      <th>Feature_92</th>\n      <th>Feature_93</th>\n      <th>Feature_94</th>\n      <th>Feature_95</th>\n      <th>Feature_96</th>\n      <th>Feature_97</th>\n      <th>Feature_98</th>\n      <th>Feature_99</th>\n      <th>Feature_100</th>\n    </tr>\n  </thead>\n  <tbody>\n    <tr>\n      <th>count</th>\n      <td>143.00000</td>\n      <td>143.000000</td>\n      <td>143.000000</td>\n      <td>143.000000</td>\n      <td>143.000000</td>\n      <td>143.000000</td>\n      <td>143.000000</td>\n      <td>143.000000</td>\n      <td>143.000000</td>\n      <td>143.000000</td>\n      <td>...</td>\n      <td>143.000000</td>\n      <td>143.000000</td>\n      <td>143.000000</td>\n      <td>143.000000</td>\n      <td>143.000000</td>\n      <td>143.000000</td>\n      <td>143.0</td>\n      <td>143.000000</td>\n      <td>143.000000</td>\n      <td>143.0</td>\n    </tr>\n    <tr>\n      <th>mean</th>\n      <td>72.00000</td>\n      <td>1.685315</td>\n      <td>1.496503</td>\n      <td>66.594406</td>\n      <td>12.958042</td>\n      <td>1.328671</td>\n      <td>2.664336</td>\n      <td>2.839161</td>\n      <td>0.090909</td>\n      <td>0.755245</td>\n      <td>...</td>\n      <td>0.020979</td>\n      <td>0.090909</td>\n      <td>0.153846</td>\n      <td>0.160839</td>\n      <td>0.083916</td>\n      <td>0.300699</td>\n      <td>0.0</td>\n      <td>0.041958</td>\n      <td>0.265734</td>\n      <td>0.0</td>\n    </tr>\n    <tr>\n      <th>std</th>\n      <td>41.42463</td>\n      <td>0.466023</td>\n      <td>0.501745</td>\n      <td>15.666973</td>\n      <td>8.433563</td>\n      <td>0.471381</td>\n      <td>3.126317</td>\n      <td>0.801850</td>\n      <td>0.288490</td>\n      <td>0.431453</td>\n      <td>...</td>\n      <td>0.143818</td>\n      <td>0.288490</td>\n      <td>0.362069</td>\n      <td>0.368674</td>\n      <td>0.278236</td>\n      <td>1.156945</td>\n      <td>0.0</td>\n      <td>0.201198</td>\n      <td>0.887718</td>\n      <td>0.0</td>\n    </tr>\n    <tr>\n      <th>min</th>\n      <td>1.00000</td>\n      <td>1.000000</td>\n      <td>1.000000</td>\n      <td>0.000000</td>\n      <td>1.000000</td>\n      <td>1.000000</td>\n      <td>0.000000</td>\n      <td>0.000000</td>\n      <td>0.000000</td>\n      <td>0.000000</td>\n      <td>...</td>\n      <td>0.000000</td>\n      <td>0.000000</td>\n      <td>0.000000</td>\n      <td>0.000000</td>\n      <td>0.000000</td>\n      <td>0.000000</td>\n      <td>0.0</td>\n      <td>0.000000</td>\n      <td>0.000000</td>\n      <td>0.0</td>\n    </tr>\n    <tr>\n      <th>25%</th>\n      <td>36.50000</td>\n      <td>1.000000</td>\n      <td>1.000000</td>\n      <td>56.000000</td>\n      <td>6.000000</td>\n      <td>1.000000</td>\n      <td>0.000000</td>\n      <td>2.000000</td>\n      <td>0.000000</td>\n      <td>1.000000</td>\n      <td>...</td>\n      <td>0.000000</td>\n      <td>0.000000</td>\n      <td>0.000000</td>\n      <td>0.000000</td>\n      <td>0.000000</td>\n      <td>0.000000</td>\n      <td>0.0</td>\n      <td>0.000000</td>\n      <td>0.000000</td>\n      <td>0.0</td>\n    </tr>\n    <tr>\n      <th>50%</th>\n      <td>72.00000</td>\n      <td>2.000000</td>\n      <td>1.000000</td>\n      <td>68.000000</td>\n      <td>12.000000</td>\n      <td>1.000000</td>\n      <td>1.000000</td>\n      <td>3.000000</td>\n      <td>0.000000</td>\n      <td>1.000000</td>\n      <td>...</td>\n      <td>0.000000</td>\n      <td>0.000000</td>\n      <td>0.000000</td>\n      <td>0.000000</td>\n      <td>0.000000</td>\n      <td>0.000000</td>\n      <td>0.0</td>\n      <td>0.000000</td>\n      <td>0.000000</td>\n      <td>0.0</td>\n    </tr>\n    <tr>\n      <th>75%</th>\n      <td>107.50000</td>\n      <td>2.000000</td>\n      <td>2.000000</td>\n      <td>80.000000</td>\n      <td>18.000000</td>\n      <td>2.000000</td>\n      <td>5.000000</td>\n      <td>3.000000</td>\n      <td>0.000000</td>\n      <td>1.000000</td>\n      <td>...</td>\n      <td>0.000000</td>\n      <td>0.000000</td>\n      <td>0.000000</td>\n      <td>0.000000</td>\n      <td>0.000000</td>\n      <td>0.000000</td>\n      <td>0.0</td>\n      <td>0.000000</td>\n      <td>0.000000</td>\n      <td>0.0</td>\n    </tr>\n    <tr>\n      <th>max</th>\n      <td>143.00000</td>\n      <td>2.000000</td>\n      <td>2.000000</td>\n      <td>97.000000</td>\n      <td>40.000000</td>\n      <td>2.000000</td>\n      <td>12.000000</td>\n      <td>4.000000</td>\n      <td>1.000000</td>\n      <td>1.000000</td>\n      <td>...</td>\n      <td>1.000000</td>\n      <td>1.000000</td>\n      <td>1.000000</td>\n      <td>1.000000</td>\n      <td>1.000000</td>\n      <td>9.000000</td>\n      <td>0.0</td>\n      <td>1.000000</td>\n      <td>9.000000</td>\n      <td>0.0</td>\n    </tr>\n  </tbody>\n</table>\n<p>8 rows × 102 columns</p>\n</div>"
     },
     "metadata": {},
     "execution_count": 11
    }
   ],
   "source": [
    "df.describe()"
   ]
  },
  {
   "cell_type": "code",
   "execution_count": 5,
   "metadata": {},
   "outputs": [
    {
     "output_type": "stream",
     "name": "stdout",
     "text": [
      "<class 'pandas.core.frame.DataFrame'>\nRangeIndex: 143 entries, 0 to 142\nColumns: 102 entries, Id to Feature_100\ndtypes: float64(84), int64(18)\nmemory usage: 114.1 KB\n"
     ]
    }
   ],
   "source": [
    "df.info()"
   ]
  },
  {
   "cell_type": "code",
   "execution_count": 12,
   "metadata": {},
   "outputs": [
    {
     "output_type": "stream",
     "name": "stdout",
     "text": [
      "Stopped by overfitting detector  (50 iterations wait)\n",
      "\n",
      "bestTest = 0.9728260873\n",
      "bestIteration = 4\n",
      "\n",
      "0:\tloss: 0.9728261\tbest: 0.9728261 (0)\ttotal: 415ms\tremaining: 3.73s\n",
      "Stopped by overfitting detector  (50 iterations wait)\n",
      "\n",
      "bestTest = 1\n",
      "bestIteration = 17\n",
      "\n",
      "1:\tloss: 1.0000000\tbest: 1.0000000 (1)\ttotal: 654ms\tremaining: 2.62s\n",
      "Stopped by overfitting detector  (50 iterations wait)\n",
      "\n",
      "bestTest = 0.8586956525\n",
      "bestIteration = 11\n",
      "\n",
      "2:\tloss: 0.8586957\tbest: 1.0000000 (1)\ttotal: 1.11s\tremaining: 2.59s\n",
      "Stopped by overfitting detector  (50 iterations wait)\n",
      "\n",
      "bestTest = 0.9728260873\n",
      "bestIteration = 4\n",
      "\n",
      "3:\tloss: 0.9728261\tbest: 1.0000000 (1)\ttotal: 1.54s\tremaining: 2.3s\n",
      "Stopped by overfitting detector  (50 iterations wait)\n",
      "\n",
      "bestTest = 0.9728260873\n",
      "bestIteration = 15\n",
      "\n",
      "4:\tloss: 0.9728261\tbest: 1.0000000 (1)\ttotal: 4.38s\tremaining: 4.38s\n",
      "Stopped by overfitting detector  (50 iterations wait)\n",
      "\n",
      "bestTest = 0.8315217398\n",
      "bestIteration = 54\n",
      "\n",
      "5:\tloss: 0.8315217\tbest: 1.0000000 (1)\ttotal: 9.45s\tremaining: 6.3s\n",
      "Stopped by overfitting detector  (50 iterations wait)\n",
      "\n",
      "bestTest = 1\n",
      "bestIteration = 4\n",
      "\n",
      "6:\tloss: 1.0000000\tbest: 1.0000000 (1)\ttotal: 9.64s\tremaining: 4.13s\n",
      "Stopped by overfitting detector  (50 iterations wait)\n",
      "\n",
      "bestTest = 0.913043478\n",
      "bestIteration = 13\n",
      "\n",
      "7:\tloss: 0.9130435\tbest: 1.0000000 (1)\ttotal: 10.1s\tremaining: 2.53s\n",
      "Stopped by overfitting detector  (50 iterations wait)\n",
      "\n",
      "bestTest = 0.913043478\n",
      "bestIteration = 36\n",
      "\n",
      "8:\tloss: 0.9130435\tbest: 1.0000000 (1)\ttotal: 14s\tremaining: 1.55s\n",
      "Stopped by overfitting detector  (50 iterations wait)\n",
      "\n",
      "bestTest = 0.826086956\n",
      "bestIteration = 33\n",
      "\n",
      "9:\tloss: 0.8260870\tbest: 1.0000000 (1)\ttotal: 17.8s\tremaining: 0us\n",
      "Estimating final quality...\n",
      "Stopped by overfitting detector  (50 iterations wait)\n",
      "{'depth': 4, 'l2_leaf_reg': 4, 'iterations': 1200, 'bagging_temperature': 1.5, 'learning_rate': 0.03}\n"
     ]
    }
   ],
   "source": [
    "\n",
    "X = df[feature_names]\n",
    "y = df[target_name]\n",
    "\n",
    "X_train, X_test, y_train, y_test = train_test_split(\n",
    "    X,\n",
    "    y,\n",
    "    shuffle=True,\n",
    "    test_size=0.1,\n",
    "    random_state=100,\n",
    "    stratify=y\n",
    ")\n",
    "\n",
    "params_model = {\n",
    "    'auto_class_weights': 'Balanced',\n",
    "    'eval_metric': 'Accuracy',\n",
    "    'early_stopping_rounds': 50,\n",
    "}\n",
    "\n",
    "cbr_model = CatBoostClassifier(**params_model)\n",
    "\n",
    "params_grid = {\n",
    "    'depth': [4, 6, 8, 10],\n",
    "    'learning_rate': [0.03, 0.1, 0.3, 0.5],\n",
    "    'iterations': [100, 200, 400, 600, 800, 1000, 1200],\n",
    "    'l2_leaf_reg': [2, 2.5, 3, 3.5, 4],\n",
    "    'bagging_temperature': [1, 1.5, 2, 2.5]\n",
    "}\n",
    "\n",
    "rs = cbr_model.randomized_search(\n",
    "    params_grid,\n",
    "    X_train,\n",
    "    y_train,\n",
    "    n_iter=10,\n",
    "    shuffle=True,\n",
    "    stratified=True,\n",
    "    partition_random_seed=100,\n",
    "    cv=10,\n",
    "    calc_cv_statistics=True,\n",
    "    search_by_train_test_split=True,\n",
    "    refit=True,\n",
    ")\n",
    "\n",
    "print(rs['params'])"
   ]
  },
  {
   "cell_type": "code",
   "execution_count": 17,
   "metadata": {},
   "outputs": [
    {
     "output_type": "stream",
     "name": "stdout",
     "text": [
      "Accuracy on train: 1.0\nAccuracy on test: 0.93\n\nClassification report: \n              precision    recall  f1-score   support\n\n           1       0.83      1.00      0.91         5\n           2       1.00      0.90      0.95        10\n\n    accuracy                           0.93        15\n   macro avg       0.92      0.95      0.93        15\nweighted avg       0.94      0.93      0.93        15\n\n\nConfusion matrix:\n [[5 0]\n [1 9]]\n"
     ]
    }
   ],
   "source": [
    "print(f'Accuracy on train: {round(cbr_model.score(X_train, y_train), 2)}')\n",
    "print(f'Accuracy on test: {round(cbr_model.score(X_test, y_test), 2)}')\n",
    "\n",
    "y_test_pred = cbr_model.predict(X_test)\n",
    "print(f'\\nClassification report: \\n{classification_report(y_test, y_test_pred)}')\n",
    "print(f'\\nConfusion matrix:\\n {confusion_matrix(y_test, y_test_pred)}')"
   ]
  },
  {
   "cell_type": "code",
   "execution_count": 14,
   "metadata": {},
   "outputs": [
    {
     "output_type": "execute_result",
     "data": {
      "text/plain": [
       "   feature_name  importance\n",
       "65   Feature_70   10.077668\n",
       "30   Feature_34    7.433991\n",
       "26   Feature_29    6.641418\n",
       "94   Feature_99    5.723146\n",
       "36   Feature_41    5.409357\n",
       "27   Feature_30    3.883164\n",
       "33   Feature_38    3.626536\n",
       "66   Feature_71    3.544044\n",
       "41   Feature_46    3.478210\n",
       "6     Feature_9    3.435480\n",
       "29   Feature_33    3.381132\n",
       "35   Feature_40    3.141476\n",
       "42   Feature_47    2.798505\n",
       "31   Feature_36    2.760091\n",
       "1     Feature_2    2.628660\n",
       "46   Feature_51    2.476886\n",
       "59   Feature_64    2.287258\n",
       "2     Feature_5    2.243588\n",
       "25   Feature_28    1.945019\n",
       "89   Feature_94    1.786136\n",
       "32   Feature_37    1.723310\n",
       "37   Feature_42    1.714042\n",
       "48   Feature_53    1.584147\n",
       "3     Feature_6    1.474126\n",
       "39   Feature_44    1.236943\n",
       "34   Feature_39    1.080733\n",
       "44   Feature_49    1.042758\n",
       "49   Feature_54    1.027224\n",
       "52   Feature_57    0.846794\n",
       "68   Feature_73    0.782043\n",
       "38   Feature_43    0.713530\n",
       "58   Feature_63    0.665372\n",
       "53   Feature_58    0.629952\n",
       "43   Feature_48    0.618866\n",
       "54   Feature_59    0.569765\n",
       "67   Feature_72    0.530251\n",
       "71   Feature_76    0.361885\n",
       "81   Feature_86    0.358979\n",
       "50   Feature_55    0.330012\n",
       "40   Feature_45    0.328480\n",
       "4     Feature_7    0.311230\n",
       "79   Feature_84    0.293713\n",
       "56   Feature_61    0.254535\n",
       "55   Feature_60    0.246735\n",
       "73   Feature_78    0.240394\n",
       "28   Feature_31    0.238937\n",
       "57   Feature_62    0.225378\n",
       "47   Feature_52    0.187913\n",
       "21   Feature_24    0.186192\n",
       "74   Feature_79    0.145757"
      ],
      "text/html": "<div>\n<style scoped>\n    .dataframe tbody tr th:only-of-type {\n        vertical-align: middle;\n    }\n\n    .dataframe tbody tr th {\n        vertical-align: top;\n    }\n\n    .dataframe thead th {\n        text-align: right;\n    }\n</style>\n<table border=\"1\" class=\"dataframe\">\n  <thead>\n    <tr style=\"text-align: right;\">\n      <th></th>\n      <th>feature_name</th>\n      <th>importance</th>\n    </tr>\n  </thead>\n  <tbody>\n    <tr>\n      <th>65</th>\n      <td>Feature_70</td>\n      <td>10.077668</td>\n    </tr>\n    <tr>\n      <th>30</th>\n      <td>Feature_34</td>\n      <td>7.433991</td>\n    </tr>\n    <tr>\n      <th>26</th>\n      <td>Feature_29</td>\n      <td>6.641418</td>\n    </tr>\n    <tr>\n      <th>94</th>\n      <td>Feature_99</td>\n      <td>5.723146</td>\n    </tr>\n    <tr>\n      <th>36</th>\n      <td>Feature_41</td>\n      <td>5.409357</td>\n    </tr>\n    <tr>\n      <th>27</th>\n      <td>Feature_30</td>\n      <td>3.883164</td>\n    </tr>\n    <tr>\n      <th>33</th>\n      <td>Feature_38</td>\n      <td>3.626536</td>\n    </tr>\n    <tr>\n      <th>66</th>\n      <td>Feature_71</td>\n      <td>3.544044</td>\n    </tr>\n    <tr>\n      <th>41</th>\n      <td>Feature_46</td>\n      <td>3.478210</td>\n    </tr>\n    <tr>\n      <th>6</th>\n      <td>Feature_9</td>\n      <td>3.435480</td>\n    </tr>\n    <tr>\n      <th>29</th>\n      <td>Feature_33</td>\n      <td>3.381132</td>\n    </tr>\n    <tr>\n      <th>35</th>\n      <td>Feature_40</td>\n      <td>3.141476</td>\n    </tr>\n    <tr>\n      <th>42</th>\n      <td>Feature_47</td>\n      <td>2.798505</td>\n    </tr>\n    <tr>\n      <th>31</th>\n      <td>Feature_36</td>\n      <td>2.760091</td>\n    </tr>\n    <tr>\n      <th>1</th>\n      <td>Feature_2</td>\n      <td>2.628660</td>\n    </tr>\n    <tr>\n      <th>46</th>\n      <td>Feature_51</td>\n      <td>2.476886</td>\n    </tr>\n    <tr>\n      <th>59</th>\n      <td>Feature_64</td>\n      <td>2.287258</td>\n    </tr>\n    <tr>\n      <th>2</th>\n      <td>Feature_5</td>\n      <td>2.243588</td>\n    </tr>\n    <tr>\n      <th>25</th>\n      <td>Feature_28</td>\n      <td>1.945019</td>\n    </tr>\n    <tr>\n      <th>89</th>\n      <td>Feature_94</td>\n      <td>1.786136</td>\n    </tr>\n    <tr>\n      <th>32</th>\n      <td>Feature_37</td>\n      <td>1.723310</td>\n    </tr>\n    <tr>\n      <th>37</th>\n      <td>Feature_42</td>\n      <td>1.714042</td>\n    </tr>\n    <tr>\n      <th>48</th>\n      <td>Feature_53</td>\n      <td>1.584147</td>\n    </tr>\n    <tr>\n      <th>3</th>\n      <td>Feature_6</td>\n      <td>1.474126</td>\n    </tr>\n    <tr>\n      <th>39</th>\n      <td>Feature_44</td>\n      <td>1.236943</td>\n    </tr>\n    <tr>\n      <th>34</th>\n      <td>Feature_39</td>\n      <td>1.080733</td>\n    </tr>\n    <tr>\n      <th>44</th>\n      <td>Feature_49</td>\n      <td>1.042758</td>\n    </tr>\n    <tr>\n      <th>49</th>\n      <td>Feature_54</td>\n      <td>1.027224</td>\n    </tr>\n    <tr>\n      <th>52</th>\n      <td>Feature_57</td>\n      <td>0.846794</td>\n    </tr>\n    <tr>\n      <th>68</th>\n      <td>Feature_73</td>\n      <td>0.782043</td>\n    </tr>\n    <tr>\n      <th>38</th>\n      <td>Feature_43</td>\n      <td>0.713530</td>\n    </tr>\n    <tr>\n      <th>58</th>\n      <td>Feature_63</td>\n      <td>0.665372</td>\n    </tr>\n    <tr>\n      <th>53</th>\n      <td>Feature_58</td>\n      <td>0.629952</td>\n    </tr>\n    <tr>\n      <th>43</th>\n      <td>Feature_48</td>\n      <td>0.618866</td>\n    </tr>\n    <tr>\n      <th>54</th>\n      <td>Feature_59</td>\n      <td>0.569765</td>\n    </tr>\n    <tr>\n      <th>67</th>\n      <td>Feature_72</td>\n      <td>0.530251</td>\n    </tr>\n    <tr>\n      <th>71</th>\n      <td>Feature_76</td>\n      <td>0.361885</td>\n    </tr>\n    <tr>\n      <th>81</th>\n      <td>Feature_86</td>\n      <td>0.358979</td>\n    </tr>\n    <tr>\n      <th>50</th>\n      <td>Feature_55</td>\n      <td>0.330012</td>\n    </tr>\n    <tr>\n      <th>40</th>\n      <td>Feature_45</td>\n      <td>0.328480</td>\n    </tr>\n    <tr>\n      <th>4</th>\n      <td>Feature_7</td>\n      <td>0.311230</td>\n    </tr>\n    <tr>\n      <th>79</th>\n      <td>Feature_84</td>\n      <td>0.293713</td>\n    </tr>\n    <tr>\n      <th>56</th>\n      <td>Feature_61</td>\n      <td>0.254535</td>\n    </tr>\n    <tr>\n      <th>55</th>\n      <td>Feature_60</td>\n      <td>0.246735</td>\n    </tr>\n    <tr>\n      <th>73</th>\n      <td>Feature_78</td>\n      <td>0.240394</td>\n    </tr>\n    <tr>\n      <th>28</th>\n      <td>Feature_31</td>\n      <td>0.238937</td>\n    </tr>\n    <tr>\n      <th>57</th>\n      <td>Feature_62</td>\n      <td>0.225378</td>\n    </tr>\n    <tr>\n      <th>47</th>\n      <td>Feature_52</td>\n      <td>0.187913</td>\n    </tr>\n    <tr>\n      <th>21</th>\n      <td>Feature_24</td>\n      <td>0.186192</td>\n    </tr>\n    <tr>\n      <th>74</th>\n      <td>Feature_79</td>\n      <td>0.145757</td>\n    </tr>\n  </tbody>\n</table>\n</div>"
     },
     "metadata": {},
     "execution_count": 14
    }
   ],
   "source": [
    "\n",
    "feature_importances = pd.DataFrame(\n",
    "    zip(X.columns, cbr_model.get_feature_importance()),\n",
    "    columns=['feature_name', 'importance']\n",
    ")\n",
    "\n",
    "feature_importances.sort_values(by='importance', ascending=False, inplace=True)\n",
    "feature_importances.head(50)"
   ]
  }
 ]
}