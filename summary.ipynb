{
 "cells": [
  {
   "cell_type": "markdown",
   "source": [
    "# Model #1\n",
    "\n",
    "## Metrics\n",
    "\n",
    "* Accuracy: 0.9\n",
    "* F1 Score: 0.9\n",
    "\n",
    "## Features\n",
    "\n",
    "* Feature_3 - 45.844361\n",
    "* Feature_34 - 15.823020\n",
    "* Feature_30 - 10.738521\n",
    "* Feature_33 - 6.364421\n",
    "* Feature_106 - 4.734168\n",
    "* Feature_41 - 3.528027\n",
    "* Feature_47 - 2.520456\n",
    "* Feature_29 - 2.220175\n",
    "* Feature_46 - 2.187296\n",
    "* Feature_2 - 2.132324\n",
    "* Feature_57 - 1.955392\n",
    "* Feature_40 - 1.951839\n",
    "\n",
    "## Errors\n",
    "\n",
    "* #55 - 10440/C2020\n",
    "* #36 - 10680/C2020\n",
    "* #87 - 11053/C2020\n",
    "* #207 - 10364/C2020\n",
    "* #161 - 2114/C2021\n",
    "* #200 - 11272/C2020\n"
   ],
   "metadata": {}
  },
  {
   "cell_type": "markdown",
   "source": [
    "# Model #2\n",
    "\n",
    "## Metrics\n",
    "\n",
    "* Accuracy: 0.77\n",
    "* F1 Score: 0.76\n",
    "\n",
    "## Features\n",
    "\n",
    "* Feature_47 - 10.844266\n",
    "* Feature_41 - 9.018799\n",
    "* Feature_36 - 8.946047\n",
    "* Feature_51 - 8.669638\n",
    "* Feature_6 - 7.683958\n",
    "* Feature_70 - 7.386215\n",
    "* Feature_40 - 7.321733\n",
    "* Feature_59 - 7.195883\n",
    "* Feature_73 - 6.963049\n",
    "* Feature_106 - 6.627857\n",
    "* Feature_71 - 6.447069\n",
    "* Feature_9 - 5.026826\n",
    "* Feature_38 - 3.666606\n",
    "* Feature_31 - 2.963077\n",
    "* Feature_28 - 1.238977\n",
    "\n",
    "## Errors\n",
    "\n",
    "* #55 - 10440/C2020\n",
    "* #36 - 10680/C2020\n",
    "* #228 - 10873/C2020\n",
    "* #83 - 11144/C2020\n",
    "* #238 - 10710/C2020\n",
    "* #44 - 10583/C2020\n",
    "* #235 - 11598/C2020\n",
    "* #189 - 12183/C2020\n",
    "* #145 - 104/C2021\n",
    "* #136 - 10118/C2020\n",
    "* #1 - 10359/C2020\n",
    "* #207 - 10364/C2020\n",
    "* #37 - 10678/C2020\n",
    "* #68 - 11625/C2020\n"
   ],
   "metadata": {}
  }
 ],
 "metadata": {
  "kernelspec": {
   "display_name": "Python 3",
   "language": "python",
   "name": "python3"
  },
  "language_info": {
   "codemirror_mode": {
    "name": "ipython",
    "version": 3
   },
   "file_extension": ".py",
   "mimetype": "text/x-python",
   "name": "python",
   "nbconvert_exporter": "python",
   "pygments_lexer": "ipython3",
   "version": "3.7.7"
  }
 },
 "nbformat": 4,
 "nbformat_minor": 2
}